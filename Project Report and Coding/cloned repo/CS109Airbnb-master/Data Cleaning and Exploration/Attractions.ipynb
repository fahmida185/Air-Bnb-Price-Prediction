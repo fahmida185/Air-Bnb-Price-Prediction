{
 "cells": [
  {
   "cell_type": "code",
   "execution_count": 3,
   "metadata": {},
   "outputs": [],
   "source": [
    "import sys\n",
    "sys.path.append('//anaconda/lib/python2.7/site-packages/')\n",
    "from IPython.display import display\n",
    "import numpy as np\n",
    "import pandas as pd\n",
    "import scipy as sp\n",
    "from sklearn import linear_model\n",
    "from sklearn.decomposition import PCA\n",
    "from sklearn.model_selection import KFold\n",
    "from sklearn.cluster import FeatureAgglomeration\n",
    "from sklearn import svm\n",
    "import matplotlib\n",
    "import matplotlib.pyplot as plt\n",
    "import nltk\n",
    "from datetime import datetime as dtdm\n",
    "from sklearn.linear_model import LinearRegression as LinReg\n",
    "from sklearn.model_selection import train_test_split\n",
    "from sklearn.cluster import KMeans\n",
    "from scipy.spatial.distance import cdist, euclidean\n",
    "from sklearn.cluster import AgglomerativeClustering\n",
    "import seaborn as sns\n",
    "import nltk\n",
    "from nltk.classify import NaiveBayesClassifier\n",
    "from nltk.corpus import subjectivity\n",
    "from nltk.sentiment import SentimentAnalyzer\n",
    "from nltk.sentiment.util import *\n",
    "from textblob import TextBlob\n",
    "from datetime import datetime as dt\n",
    "import math\n",
    "from geopy.distance import vincenty\n",
    "from sklearn.ensemble import RandomForestClassifier\n",
    "\n",
    "%matplotlib inline"
   ]
  },
  {
   "cell_type": "markdown",
   "metadata": {},
   "source": [
    "## Attractions\n",
    "\n",
    "This section of our report is based off of the principle tenent of real estate: location, location, location.  We scraped the top tourist attractions in New York and made indicator variables to see if listings were nearby.  Ultimately, we wanted to know whether or not proximity to these destinations affected price in any way.  After running this code, a new dataset CSV was created."
   ]
  },
  {
   "cell_type": "code",
   "execution_count": 4,
   "metadata": {},
   "outputs": [],
   "source": [
    "#read in the dataset\n",
    "attractions = pd.read_csv('C:/Users/fahmida/Desktop/Rental/airbnb/attractions.csv')"
   ]
  },
  {
   "cell_type": "code",
   "execution_count": 5,
   "metadata": {},
   "outputs": [
    {
     "data": {
      "text/html": [
       "<div>\n",
       "<style scoped>\n",
       "    .dataframe tbody tr th:only-of-type {\n",
       "        vertical-align: middle;\n",
       "    }\n",
       "\n",
       "    .dataframe tbody tr th {\n",
       "        vertical-align: top;\n",
       "    }\n",
       "\n",
       "    .dataframe thead th {\n",
       "        text-align: right;\n",
       "    }\n",
       "</style>\n",
       "<table border=\"1\" class=\"dataframe\">\n",
       "  <thead>\n",
       "    <tr style=\"text-align: right;\">\n",
       "      <th></th>\n",
       "      <th>Place</th>\n",
       "      <th>Latitude</th>\n",
       "      <th>Longitude</th>\n",
       "    </tr>\n",
       "  </thead>\n",
       "  <tbody>\n",
       "    <tr>\n",
       "      <th>0</th>\n",
       "      <td>CN Tower</td>\n",
       "      <td>43.642536</td>\n",
       "      <td>-79.387184</td>\n",
       "    </tr>\n",
       "    <tr>\n",
       "      <th>1</th>\n",
       "      <td>Royal Ontario Museum</td>\n",
       "      <td>43.668365</td>\n",
       "      <td>-79.394810</td>\n",
       "    </tr>\n",
       "    <tr>\n",
       "      <th>2</th>\n",
       "      <td>Rogers Centre</td>\n",
       "      <td>43.641930</td>\n",
       "      <td>-79.389050</td>\n",
       "    </tr>\n",
       "    <tr>\n",
       "      <th>3</th>\n",
       "      <td>Art Gallery of Ontario</td>\n",
       "      <td>43.654050</td>\n",
       "      <td>-79.392680</td>\n",
       "    </tr>\n",
       "    <tr>\n",
       "      <th>4</th>\n",
       "      <td>�Casa Loma</td>\n",
       "      <td>43.677933</td>\n",
       "      <td>-79.409520</td>\n",
       "    </tr>\n",
       "    <tr>\n",
       "      <th>5</th>\n",
       "      <td>Toronto Zoo</td>\n",
       "      <td>43.820583</td>\n",
       "      <td>-79.181550</td>\n",
       "    </tr>\n",
       "    <tr>\n",
       "      <th>6</th>\n",
       "      <td>�St. Lawrence Market</td>\n",
       "      <td>43.648400</td>\n",
       "      <td>-79.376200</td>\n",
       "    </tr>\n",
       "    <tr>\n",
       "      <th>7</th>\n",
       "      <td>Entertainment District</td>\n",
       "      <td>43.645765</td>\n",
       "      <td>-79.384905</td>\n",
       "    </tr>\n",
       "    <tr>\n",
       "      <th>8</th>\n",
       "      <td>Ripley's Aquarium of Canada</td>\n",
       "      <td>43.642105</td>\n",
       "      <td>-79.386250</td>\n",
       "    </tr>\n",
       "    <tr>\n",
       "      <th>9</th>\n",
       "      <td>City Hall</td>\n",
       "      <td>43.652496</td>\n",
       "      <td>-79.378630</td>\n",
       "    </tr>\n",
       "    <tr>\n",
       "      <th>10</th>\n",
       "      <td>�Eaton Center</td>\n",
       "      <td>43.653105</td>\n",
       "      <td>-79.379049</td>\n",
       "    </tr>\n",
       "    <tr>\n",
       "      <th>11</th>\n",
       "      <td>Distillery District</td>\n",
       "      <td>43.653105</td>\n",
       "      <td>-79.379049</td>\n",
       "    </tr>\n",
       "    <tr>\n",
       "      <th>12</th>\n",
       "      <td>High Park</td>\n",
       "      <td>43.653570</td>\n",
       "      <td>-79.464087</td>\n",
       "    </tr>\n",
       "    <tr>\n",
       "      <th>13</th>\n",
       "      <td>Ontario Science Centre</td>\n",
       "      <td>43.716500</td>\n",
       "      <td>-79.338715</td>\n",
       "    </tr>\n",
       "    <tr>\n",
       "      <th>14</th>\n",
       "      <td>Toronto Islands</td>\n",
       "      <td>43.622112</td>\n",
       "      <td>-79.378494</td>\n",
       "    </tr>\n",
       "    <tr>\n",
       "      <th>15</th>\n",
       "      <td>Gardiner Museum</td>\n",
       "      <td>43.668007</td>\n",
       "      <td>-79.393330</td>\n",
       "    </tr>\n",
       "    <tr>\n",
       "      <th>16</th>\n",
       "      <td>Planetarium</td>\n",
       "      <td>43.652900</td>\n",
       "      <td>-79.384900</td>\n",
       "    </tr>\n",
       "    <tr>\n",
       "      <th>17</th>\n",
       "      <td>University of Toronto</td>\n",
       "      <td>43.662495</td>\n",
       "      <td>-79.395220</td>\n",
       "    </tr>\n",
       "    <tr>\n",
       "      <th>18</th>\n",
       "      <td>Ontario House of Parliament</td>\n",
       "      <td>43.663647</td>\n",
       "      <td>-79.367850</td>\n",
       "    </tr>\n",
       "    <tr>\n",
       "      <th>19</th>\n",
       "      <td>Mapel Leaf Gardens</td>\n",
       "      <td>43.661892</td>\n",
       "      <td>-79.379610</td>\n",
       "    </tr>\n",
       "    <tr>\n",
       "      <th>20</th>\n",
       "      <td>China Town</td>\n",
       "      <td>43.655293</td>\n",
       "      <td>-79.399110</td>\n",
       "    </tr>\n",
       "    <tr>\n",
       "      <th>21</th>\n",
       "      <td>Allan Gardens</td>\n",
       "      <td>43.661915</td>\n",
       "      <td>-79.374690</td>\n",
       "    </tr>\n",
       "    <tr>\n",
       "      <th>22</th>\n",
       "      <td>Kensington Market</td>\n",
       "      <td>43.655100</td>\n",
       "      <td>-79.402000</td>\n",
       "    </tr>\n",
       "    <tr>\n",
       "      <th>23</th>\n",
       "      <td>Fort York</td>\n",
       "      <td>43.638355</td>\n",
       "      <td>-79.405880</td>\n",
       "    </tr>\n",
       "    <tr>\n",
       "      <th>24</th>\n",
       "      <td>Alexandra Yatch Club</td>\n",
       "      <td>43.656338</td>\n",
       "      <td>-79.407360</td>\n",
       "    </tr>\n",
       "    <tr>\n",
       "      <th>25</th>\n",
       "      <td>Westin Harbour Castle</td>\n",
       "      <td>43.641212</td>\n",
       "      <td>-79.375750</td>\n",
       "    </tr>\n",
       "    <tr>\n",
       "      <th>26</th>\n",
       "      <td>Skyway</td>\n",
       "      <td>43.682746</td>\n",
       "      <td>-79.582708</td>\n",
       "    </tr>\n",
       "    <tr>\n",
       "      <th>27</th>\n",
       "      <td>Skydome</td>\n",
       "      <td>43.641930</td>\n",
       "      <td>-79.389050</td>\n",
       "    </tr>\n",
       "    <tr>\n",
       "      <th>28</th>\n",
       "      <td>Antique Market</td>\n",
       "      <td>44.800385</td>\n",
       "      <td>-68.771930</td>\n",
       "    </tr>\n",
       "    <tr>\n",
       "      <th>29</th>\n",
       "      <td>Campbell House</td>\n",
       "      <td>43.650720</td>\n",
       "      <td>43.650720</td>\n",
       "    </tr>\n",
       "    <tr>\n",
       "      <th>30</th>\n",
       "      <td>Trinity Church</td>\n",
       "      <td>43.748764</td>\n",
       "      <td>43.748764</td>\n",
       "    </tr>\n",
       "    <tr>\n",
       "      <th>31</th>\n",
       "      <td>First Canadian Plaza</td>\n",
       "      <td>43.631893</td>\n",
       "      <td>-79.422430</td>\n",
       "    </tr>\n",
       "    <tr>\n",
       "      <th>32</th>\n",
       "      <td>Dominion Centre</td>\n",
       "      <td>43.674725</td>\n",
       "      <td>-79.408700</td>\n",
       "    </tr>\n",
       "    <tr>\n",
       "      <th>33</th>\n",
       "      <td>Royal Bank Plaza</td>\n",
       "      <td>43.645958</td>\n",
       "      <td>-79.379450</td>\n",
       "    </tr>\n",
       "  </tbody>\n",
       "</table>\n",
       "</div>"
      ],
      "text/plain": [
       "                          Place   Latitude  Longitude\n",
       "0                      CN Tower  43.642536 -79.387184\n",
       "1          Royal Ontario Museum  43.668365 -79.394810\n",
       "2                 Rogers Centre  43.641930 -79.389050\n",
       "3        Art Gallery of Ontario  43.654050 -79.392680\n",
       "4                    �Casa Loma  43.677933 -79.409520\n",
       "5                   Toronto Zoo  43.820583 -79.181550\n",
       "6          �St. Lawrence Market  43.648400 -79.376200\n",
       "7        Entertainment District  43.645765 -79.384905\n",
       "8   Ripley's Aquarium of Canada  43.642105 -79.386250\n",
       "9                     City Hall  43.652496 -79.378630\n",
       "10                �Eaton Center  43.653105 -79.379049\n",
       "11          Distillery District  43.653105 -79.379049\n",
       "12                    High Park  43.653570 -79.464087\n",
       "13       Ontario Science Centre  43.716500 -79.338715\n",
       "14              Toronto Islands  43.622112 -79.378494\n",
       "15              Gardiner Museum  43.668007 -79.393330\n",
       "16                  Planetarium  43.652900 -79.384900\n",
       "17        University of Toronto  43.662495 -79.395220\n",
       "18  Ontario House of Parliament  43.663647 -79.367850\n",
       "19           Mapel Leaf Gardens  43.661892 -79.379610\n",
       "20                   China Town  43.655293 -79.399110\n",
       "21                Allan Gardens  43.661915 -79.374690\n",
       "22            Kensington Market  43.655100 -79.402000\n",
       "23                    Fort York  43.638355 -79.405880\n",
       "24         Alexandra Yatch Club  43.656338 -79.407360\n",
       "25        Westin Harbour Castle  43.641212 -79.375750\n",
       "26                      Skyway   43.682746 -79.582708\n",
       "27                      Skydome  43.641930 -79.389050\n",
       "28               Antique Market  44.800385 -68.771930\n",
       "29               Campbell House  43.650720  43.650720\n",
       "30              Trinity Church   43.748764  43.748764\n",
       "31        First Canadian Plaza   43.631893 -79.422430\n",
       "32             Dominion Centre   43.674725 -79.408700\n",
       "33             Royal Bank Plaza  43.645958 -79.379450"
      ]
     },
     "execution_count": 5,
     "metadata": {},
     "output_type": "execute_result"
    }
   ],
   "source": [
    "attractions"
   ]
  },
  {
   "cell_type": "code",
   "execution_count": 6,
   "metadata": {},
   "outputs": [
    {
     "ename": "NameError",
     "evalue": "name 'final_df' is not defined",
     "output_type": "error",
     "traceback": [
      "\u001b[1;31m---------------------------------------------------------------------------\u001b[0m",
      "\u001b[1;31mNameError\u001b[0m                                 Traceback (most recent call last)",
      "\u001b[1;32m<ipython-input-6-4376b73e194b>\u001b[0m in \u001b[0;36m<module>\u001b[1;34m()\u001b[0m\n\u001b[1;32m----> 1\u001b[1;33m \u001b[0mfinal_df_small\u001b[0m \u001b[1;33m=\u001b[0m \u001b[0mfinal_df\u001b[0m\u001b[1;33m[\u001b[0m\u001b[1;33m:\u001b[0m\u001b[1;36m100\u001b[0m\u001b[1;33m]\u001b[0m\u001b[1;33m\u001b[0m\u001b[0m\n\u001b[0m",
      "\u001b[1;31mNameError\u001b[0m: name 'final_df' is not defined"
     ]
    }
   ],
   "source": [
    "final_df_small = final_df[:100]"
   ]
  },
  {
   "cell_type": "code",
   "execution_count": null,
   "metadata": {},
   "outputs": [],
   "source": [
    "#function to count the number of nearby attractions\n",
    "def attract_count(df):\n",
    "    a_sum = 0\n",
    "    for i,attract in attractions.iterrows():\n",
    "        v1 = (df.latitude,df.longitude)\n",
    "        v2 = (attract.lat,attract.lon)\n",
    "        dist = vincenty(v1, v2).meters\n",
    "        if dist < 1000:\n",
    "            a_sum += 1\n",
    "    return a_sum"
   ]
  },
  {
   "cell_type": "code",
   "execution_count": null,
   "metadata": {},
   "outputs": [],
   "source": [
    "#add a column of attraction counts\n",
    "final_df['attraction_count'] = final_df.apply(attract_count,axis=1)"
   ]
  },
  {
   "cell_type": "code",
   "execution_count": null,
   "metadata": {},
   "outputs": [],
   "source": [
    "final_df[:100]"
   ]
  },
  {
   "cell_type": "code",
   "execution_count": null,
   "metadata": {},
   "outputs": [],
   "source": [
    "#print the attraction counts to a csv\n",
    "final_df.to_csv('attractions_added.csv')"
   ]
  },
  {
   "cell_type": "code",
   "execution_count": null,
   "metadata": {},
   "outputs": [],
   "source": [
    "#drop the first row\n",
    "final_df = final_df.drop('Unnamed: 0',axis=1)"
   ]
  },
  {
   "cell_type": "code",
   "execution_count": null,
   "metadata": {},
   "outputs": [],
   "source": [
    "#read in the prices\n",
    "prices = pd.read_csv('reduced_prices.csv')"
   ]
  },
  {
   "cell_type": "code",
   "execution_count": null,
   "metadata": {},
   "outputs": [],
   "source": [
    "#clean up the prices data\n",
    "prices = prices.drop('Unnamed: 0',axis=1)\n",
    "prices.reset_index(inplace=True)\n",
    "prices=prices.drop('index',axis=1)"
   ]
  },
  {
   "cell_type": "code",
   "execution_count": null,
   "metadata": {},
   "outputs": [],
   "source": [
    "from sklearn.ensemble import RandomForestRegressor"
   ]
  },
  {
   "cell_type": "code",
   "execution_count": null,
   "metadata": {},
   "outputs": [],
   "source": [
    "#split the data\n",
    "x_train,x_test,y_train,y_test = train_test_split(final_df,prices,test_size=0.3)"
   ]
  },
  {
   "cell_type": "code",
   "execution_count": null,
   "metadata": {},
   "outputs": [],
   "source": [
    "x_train.shape"
   ]
  },
  {
   "cell_type": "code",
   "execution_count": null,
   "metadata": {},
   "outputs": [],
   "source": [
    "y_train[:5]"
   ]
  },
  {
   "cell_type": "code",
   "execution_count": null,
   "metadata": {},
   "outputs": [],
   "source": [
    "forest = RandomForestRegressor()\n",
    "forest.fit(x_train,y_train.values)\n",
    "forest.score(x_test,y_test.values)"
   ]
  },
  {
   "cell_type": "code",
   "execution_count": null,
   "metadata": {},
   "outputs": [],
   "source": [
    "display(prices[:5].T)"
   ]
  },
  {
   "cell_type": "raw",
   "metadata": {
    "collapsed": true
   },
   "source": [
    "prices.shape"
   ]
  },
  {
   "cell_type": "code",
   "execution_count": null,
   "metadata": {},
   "outputs": [],
   "source": [
    "final_df = pd.read_csv('attractions_added.csv')"
   ]
  },
  {
   "cell_type": "code",
   "execution_count": null,
   "metadata": {},
   "outputs": [],
   "source": [
    "prices.to_csv('.csv')"
   ]
  }
 ],
 "metadata": {
  "kernelspec": {
   "display_name": "Python 2",
   "language": "python",
   "name": "python2"
  },
  "language_info": {
   "codemirror_mode": {
    "name": "ipython",
    "version": 2
   },
   "file_extension": ".py",
   "mimetype": "text/x-python",
   "name": "python",
   "nbconvert_exporter": "python",
   "pygments_lexer": "ipython2",
   "version": "2.7.15"
  }
 },
 "nbformat": 4,
 "nbformat_minor": 1
}
