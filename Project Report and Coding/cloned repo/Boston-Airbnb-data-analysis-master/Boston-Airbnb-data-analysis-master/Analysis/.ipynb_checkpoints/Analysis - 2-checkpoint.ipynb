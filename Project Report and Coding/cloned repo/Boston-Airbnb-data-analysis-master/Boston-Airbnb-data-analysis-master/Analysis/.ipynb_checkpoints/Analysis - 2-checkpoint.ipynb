{
 "cells": [
  {
   "cell_type": "markdown",
   "metadata": {},
   "source": [
    "# ANALYSIS - 2"
   ]
  },
  {
   "cell_type": "markdown",
   "metadata": {},
   "source": [
    "# Where to Invest a Property in BOSTON to get maximum returns from Airbnb?"
   ]
  },
  {
   "cell_type": "markdown",
   "metadata": {},
   "source": [
    "It has been analyzed earlier that the maximum number of listings are for Entire Home/Apartment. Lets check average prices for these listings based on room type"
   ]
  },
  {
   "cell_type": "code",
   "execution_count": 1,
   "metadata": {},
   "outputs": [
    {
     "name": "stderr",
     "output_type": "stream",
     "text": [
      "C:\\Users\\fahmida\\Anaconda3\\lib\\site-packages\\IPython\\core\\interactiveshell.py:3020: DtypeWarning: Columns (88) have mixed types. Specify dtype option on import or set low_memory=False.\n",
      "  interactivity=interactivity, compiler=compiler, result=result)\n"
     ]
    }
   ],
   "source": [
    "# cleaning the data\n",
    "\n",
    "import pandas as pd\n",
    "import numpy as np\n",
    "\n",
    "inputDF = pd.read_csv('C:/Users/fahmida/Desktop/Rental/airbnb/Listings/listings.csv')\n",
    "inputDF=inputDF[['id','name','summary','longitude','latitude','space','description','instant_bookable','neighborhood_overview','neighbourhood_cleansed','host_id','host_name','host_since',\n",
    "                 'host_response_time','street', 'zipcode','review_scores_rating','property_type','room_type','accommodates','bathrooms','bedrooms','beds','reviews_per_month','amenities','cancellation_policy','number_of_reviews','price']]\n",
    "\n",
    "# replacing NaN values with 0\n",
    "inputDF.fillna(0, inplace=True)\n",
    "\n",
    "#Extracting prices from the table\n",
    "price = inputDF['price']\n",
    "prices=[]\n",
    "\n",
    "#clean the data to make it float\n",
    "for p in price:\n",
    "    p=float(p[1:].replace(',',''))\n",
    "    prices.append(p)\n",
    "\n",
    "#replace the price column with the new column\n",
    "inputDF['price']=prices\n",
    "\n",
    "#exclude the listings with 0 for price,beds,bedrooms,accomodates etc\n",
    "inputDF = inputDF[inputDF.bathrooms >0]\n",
    "inputDF = inputDF[inputDF.bedrooms > 0]\n",
    "inputDF = inputDF[inputDF.beds > 0]\n",
    "inputDF = inputDF[inputDF.price  > 0]\n",
    "inputDF = inputDF[inputDF.review_scores_rating  > 0]\n",
    "inputDF = inputDF[inputDF.reviews_per_month > 0]\n",
    "inputDF = inputDF[inputDF.accommodates  > 0]"
   ]
  },
  {
   "cell_type": "code",
   "execution_count": 2,
   "metadata": {},
   "outputs": [
    {
     "data": {
      "text/html": [
       "<div>\n",
       "<style scoped>\n",
       "    .dataframe tbody tr th:only-of-type {\n",
       "        vertical-align: middle;\n",
       "    }\n",
       "\n",
       "    .dataframe tbody tr th {\n",
       "        vertical-align: top;\n",
       "    }\n",
       "\n",
       "    .dataframe thead th {\n",
       "        text-align: right;\n",
       "    }\n",
       "</style>\n",
       "<table border=\"1\" class=\"dataframe\">\n",
       "  <thead>\n",
       "    <tr style=\"text-align: right;\">\n",
       "      <th></th>\n",
       "      <th>room_type</th>\n",
       "      <th>average_Price</th>\n",
       "    </tr>\n",
       "  </thead>\n",
       "  <tbody>\n",
       "    <tr>\n",
       "      <th>0</th>\n",
       "      <td>Entire home/apt</td>\n",
       "      <td>173.767746</td>\n",
       "    </tr>\n",
       "    <tr>\n",
       "      <th>1</th>\n",
       "      <td>Private room</td>\n",
       "      <td>66.545473</td>\n",
       "    </tr>\n",
       "    <tr>\n",
       "      <th>2</th>\n",
       "      <td>Shared room</td>\n",
       "      <td>54.981900</td>\n",
       "    </tr>\n",
       "  </tbody>\n",
       "</table>\n",
       "</div>"
      ],
      "text/plain": [
       "         room_type  average_Price\n",
       "0  Entire home/apt     173.767746\n",
       "1     Private room      66.545473\n",
       "2      Shared room      54.981900"
      ]
     },
     "execution_count": 2,
     "metadata": {},
     "output_type": "execute_result"
    }
   ],
   "source": [
    "# Average prices for each type of listing\n",
    "\n",
    "avgPrice_DF=inputDF.groupby('room_type').price.mean()\n",
    "avgPrice_DF=avgPrice_DF.reset_index()\n",
    "avgPrice_DF=avgPrice_DF.rename(columns={'price':'average_Price'})\n",
    "avgPrice_DF"
   ]
  },
  {
   "cell_type": "markdown",
   "metadata": {},
   "source": [
    "It can be concluded that Entire home/Apartment room type has the maximum average price which gives us a data point that after buying an Apartment, listing an entire Apartment on Airbnb will help to generate maximum revenue. "
   ]
  },
  {
   "cell_type": "code",
   "execution_count": 3,
   "metadata": {},
   "outputs": [],
   "source": [
    "# Geographical Clusters to find out which area in Boston has maximum listings on Airbnb\n",
    "\n",
    "# seggregating each type of property\n",
    "\n",
    "home = inputDF[(inputDF.room_type == 'Entire home/apt')]\n",
    "private = inputDF[(inputDF.room_type == 'Private room')]\n",
    "shared = inputDF[(inputDF.room_type == 'Shared room')]\n",
    "\n",
    "location_home = home[['latitude', 'longitude']]\n",
    "location_private = private[['latitude', 'longitude']]\n",
    "location_shared = shared[['latitude', 'longitude']]"
   ]
  },
  {
   "cell_type": "code",
   "execution_count": 11,
   "metadata": {},
   "outputs": [
    {
     "ename": "SyntaxError",
     "evalue": "positional argument follows keyword argument (<ipython-input-11-4e1012d96e76>, line 11)",
     "output_type": "error",
     "traceback": [
      "\u001b[1;36m  File \u001b[1;32m\"<ipython-input-11-4e1012d96e76>\"\u001b[1;36m, line \u001b[1;32m11\u001b[0m\n\u001b[1;33m    plot = gmap(x_range=Range1d(), y_range=Range1d(), map_options, title=\"Toronto\")\u001b[0m\n\u001b[1;37m                                                     ^\u001b[0m\n\u001b[1;31mSyntaxError\u001b[0m\u001b[1;31m:\u001b[0m positional argument follows keyword argument\n"
     ]
    }
   ],
   "source": [
    "from bokeh.io import push_notebook, show, output_notebook\n",
    "import os\n",
    "\n",
    "from bokeh.models import (\n",
    "  GMapPlot, GMapOptions, ColumnDataSource, Circle, Range1d, PanTool, WheelZoomTool, BoxSelectTool\n",
    ")\n",
    "output_notebook() \n",
    "map_options = GMapOptions(lat=43.6532, lng=79.3832, map_type=\"roadmap\", zoom=11)\n",
    "\n",
    "plot = GMapPlot(x_range=Range1d(), y_range=Range1d(), map_options=map_options,width=1200, height=750\n",
    ")\n",
    "plot.title.text = \"Boston\"\n",
    "\n",
    "plot.api_key = os.environ['data_download_key']\n",
    "\n",
    "source = ColumnDataSource(\n",
    "    data=dict(\n",
    "        lat_home=location_home['latitude'],\n",
    "        lon_home=location_home['longitude'],\n",
    "        lat_private=location_private['latitude'],\n",
    "        lon_private=location_private['longitude'],\n",
    "        lat_shared=location_shared['latitude'],\n",
    "        lon_shared=location_shared['longitude']\n",
    "    )\n",
    ")\n",
    "\n",
    "\n",
    "circle_home = Circle(x=\"lon_home\", y=\"lat_home\", size=4, fill_color=\"blue\", fill_alpha=0.9, line_color=None)\n",
    "circle_private =  Circle(x=\"lon_private\", y=\"lat_private\", size=4, fill_color=\"red\", fill_alpha=0.9, line_color=None)\n",
    "circle_shared =  Circle(x=\"lon_shared\", y=\"lat_shared\", size=4, fill_color=\"#006600\", fill_alpha=0.9, line_color=None)\n",
    "\n",
    "plot.add_glyph(source, circle_home)\n",
    "plot.add_glyph(source, circle_private)\n",
    "plot.add_glyph(source, circle_shared)\n",
    "\n",
    "plot.add_tools(PanTool(), WheelZoomTool(), BoxSelectTool())\n",
    "show(plot)"
   ]
  },
  {
   "cell_type": "markdown",
   "metadata": {},
   "source": [
    "Blue circles indicates Entire Apartment/home listings\n",
    "red circle indicates private room listings\n",
    "green indicates shared listings"
   ]
  },
  {
   "cell_type": "markdown",
   "metadata": {},
   "source": [
    "It can be seen that Wealthier neighborhoods, mainly South End, north end, Fenway park and back bay have a higher proportion of listings for an entire apartment while Less central and poorer neighborhoods have a disproportionate number of listings from multi-unit listers.For example, Allston, there are only  listings with private room.\n",
    "Hence, this analysis gives us another data point that Wealthier neighborhoods should be chosen for property investment.\n",
    "Analyzing data on Entire Apartments/home to find the right location to invest property."
   ]
  },
  {
   "cell_type": "code",
   "execution_count": null,
   "metadata": {},
   "outputs": [],
   "source": [
    "# grouping neighbourhood by number of listings\n",
    "\n",
    "neighbourhood_DF=home.groupby('neighbourhood_cleansed').id.count()\n",
    "neighbourhood_DF=neighbourhood_DF.reset_index()\n",
    "neighbourhood_DF=neighbourhood_DF.rename(columns={'id':'Number_Of_Listings'})\n",
    "neighbourhood_DF=neighbourhood_DF.sort_values('Number_Of_Listings',ascending=[0])\n",
    "neighbourhood_DF.head()"
   ]
  },
  {
   "cell_type": "code",
   "execution_count": null,
   "metadata": {},
   "outputs": [],
   "source": [
    "# grouping neighbourhood by average price of listings\n",
    "\n",
    "neighbourhoodPrice_DF=home.groupby('neighbourhood_cleansed').price.mean()\n",
    "neighbourhoodPrice_DF=neighbourhoodPrice_DF.reset_index()\n",
    "neighbourhoodPrice_DF=neighbourhoodPrice_DF.rename(columns={'price':'Average_Price'})\n",
    "neighbourhoodPrice_DF=neighbourhoodPrice_DF.sort_values('Average_Price',ascending=[0])\n",
    "neighbourhoodPrice_DF.head()"
   ]
  },
  {
   "cell_type": "code",
   "execution_count": null,
   "metadata": {},
   "outputs": [],
   "source": [
    "#Merging above two dataframes\n",
    "\n",
    "mergeDF=pd.merge(neighbourhood_DF,neighbourhoodPrice_DF,on='neighbourhood_cleansed')\n",
    "mergeDF.head()\n"
   ]
  },
  {
   "cell_type": "code",
   "execution_count": null,
   "metadata": {},
   "outputs": [],
   "source": [
    "# visualizing the frequency of listings on the basis of neighbourhood where room type is entire apartment\n",
    "\n",
    "%matplotlib inline\n",
    "\n",
    "import matplotlib\n",
    "import matplotlib.pyplot as plt\n",
    "matplotlib.style.use('ggplot')\n",
    "\n",
    "objects = neighbourhood_DF['neighbourhood_cleansed']\n",
    "y_pos = neighbourhood_DF['Number_Of_Listings']\n",
    "\n",
    "neighbourhood_DF.plot(kind='bar', \n",
    "           x='neighbourhood_cleansed',\n",
    "           y='Number_Of_Listings',\n",
    "           color = '#66c2ff', \n",
    "           figsize =(15,8), \n",
    "           title = 'Boston Neighborhood Frequency', \n",
    "           legend = False)\n",
    "\n",
    "plt.ylabel('Number Of Listings')"
   ]
  },
  {
   "cell_type": "markdown",
   "metadata": {},
   "source": [
    "It can be noticed that the maximum number of listings for entire apartment for Boston on Airbnb is in South End area followed by back bay and Jamaica plain.So these area become potential neighbourhood to invest a property "
   ]
  },
  {
   "cell_type": "code",
   "execution_count": null,
   "metadata": {},
   "outputs": [],
   "source": [
    "# Exploring the relationship between price and neighbourhood\n",
    "\n",
    "from bokeh.charts import BoxPlot, output_file, show\n",
    "from bokeh.io import push_notebook, show, output_notebook\n",
    "\n",
    "output_notebook()\n",
    "p = BoxPlot(home, values='price', label='neighbourhood_cleansed',width=900,\n",
    "            title=\"Relationship between Price and neighbourhood\")\n",
    "\n",
    "show(p)"
   ]
  },
  {
   "cell_type": "code",
   "execution_count": null,
   "metadata": {},
   "outputs": [],
   "source": [
    "# Now lets visualize average price of these listings on the basis of neighbourhood where room type is entire apartment\n",
    "\n",
    "%matplotlib inline\n",
    "\n",
    "import matplotlib\n",
    "import matplotlib.pyplot as plt\n",
    "matplotlib.style.use('ggplot')\n",
    "\n",
    "objects = neighbourhoodPrice_DF['neighbourhood_cleansed']\n",
    "y_pos = neighbourhoodPrice_DF['Average_Price']\n",
    "\n",
    "neighbourhoodPrice_DF.plot(kind='bar', \n",
    "           x='neighbourhood_cleansed',\n",
    "           y='Average_Price',\n",
    "           color = '#66c2ff', \n",
    "           figsize =(15,8), \n",
    "           title = 'Boston Neighborhood Average price', \n",
    "           legend = False)\n",
    "\n",
    "plt.ylabel('Average Price')"
   ]
  },
  {
   "cell_type": "markdown",
   "metadata": {},
   "source": [
    "By analyzing the number of listings and prices per neighborhood, we can get a clearer understanding of how accurate the average price is per neighborhood. The neighorhoods with a lot of listings (such as South End & Back Bay), we can expect a more accurate average prices. However, neighborhoods with less than 100 listings might have relatively inaccurate average prices due to presence of outliers.\n",
    "Looking at the analysis done so far, one might conclude that certain neighborhoods are more 'expensive' than others.\n",
    "\n",
    "'Back Bay' and 'South Boston' can be considered as the potential locations as the number of listings are maximum,wealthier neighbourhoods and the avergae price of houses is fairly high."
   ]
  },
  {
   "cell_type": "code",
   "execution_count": null,
   "metadata": {},
   "outputs": [],
   "source": [
    "# Let's look at the differences between the words used in listings for Airbnb locations in different Boston neighborhoods\n",
    "\n",
    "import re\n",
    "import nltk\n",
    "from nltk.corpus import stopwords\n",
    "from collections import Counter\n",
    "\n",
    "uniqueNeighborhoods = inputDF.neighbourhood_cleansed.unique().tolist()\n",
    "\n",
    "#function to clean the data and compile a list of most common words\n",
    "def cleanData(neighbrhood_name,descrip):\n",
    "    p = re.sub('[^a-zA-Z]+',' ', descrip)\n",
    "    cmn_words=['The','I','Boston','room']\n",
    "    descrip_data=nltk.word_tokenize(p)\n",
    "    filtered_data=[word.lower() for word in descrip_data if word not in cmn_words if word not in stopwords.words('english')] \n",
    "    wnl = nltk.WordNetLemmatizer() \n",
    "    counts=Counter([wnl.lemmatize(data) for data in filtered_data])\n",
    "    commn_words=[]\n",
    "    for w in counts.most_common(5):\n",
    "        commn_words.append(w[0])\n",
    "    return ' '.join(commn_words)\n",
    "\n",
    "summ={}\n",
    "for n in uniqueNeighborhoods:\n",
    "    text=''\n",
    "    for index,row in inputDF.iterrows():\n",
    "        if row['neighbourhood_cleansed']==n:\n",
    "            if ((row['description']!=0) & (row['space']!=0) & (row['neighborhood_overview']!=0)):\n",
    "                text =text+row['description']+row['space']+row['neighborhood_overview']\n",
    "    summ[n]=text\n",
    "\n",
    "final_DF_neighbrhood=pd.DataFrame(columns=['neighborhood','top 5 words in description'])\n",
    "for a in summ.items():\n",
    "    top5words=cleanData(a[0],a[1])\n",
    "    final_DF_neighbrhood=final_DF_neighbrhood.append(pd.Series([a[0],top5words],index=['neighborhood','top 5 words in description']),ignore_index=True)\n",
    "\n",
    "final_DF_neighbrhood.to_csv('top_words_description.csv')"
   ]
  },
  {
   "cell_type": "code",
   "execution_count": null,
   "metadata": {},
   "outputs": [],
   "source": [
    "final_DF_neighbrhood.head()"
   ]
  },
  {
   "cell_type": "markdown",
   "metadata": {},
   "source": [
    "I can be observed that for neighborhood \"South Boston Waterfront\" major words include seaport, \"Hyde Park\" includes quiet, \"East Boston\" includes airport, downtown, station and chinatown includes theatre.All these observations shows that these words are unique to a particular neighborhood which gives us another data point that while listing the property on airbnb these words should definitely be included to attract travellers."
   ]
  },
  {
   "cell_type": "markdown",
   "metadata": {},
   "source": [
    "After combining all the data points collected from above analysis it can be concluded that:\n",
    "\n",
    "1. Invest a property in a wealthy neighborhood and according to this analysis that neighborhood should be 'Back Bay' and 'South End' as they have maximum number of listings and average prices in these neighborhood is fairly high.\n",
    "2. After buying an Apartment, listing an entire Apartment on Airbnb will help to generate maximum revenue.\n",
    "3. While listing the property on AirBnB, keywords describing the area should be added in order to gain the attention of travellers"
   ]
  }
 ],
 "metadata": {
  "kernelspec": {
   "display_name": "Python 3",
   "language": "python",
   "name": "python3"
  },
  "language_info": {
   "codemirror_mode": {
    "name": "ipython",
    "version": 3
   },
   "file_extension": ".py",
   "mimetype": "text/x-python",
   "name": "python",
   "nbconvert_exporter": "python",
   "pygments_lexer": "ipython3",
   "version": "3.7.1"
  }
 },
 "nbformat": 4,
 "nbformat_minor": 2
}
