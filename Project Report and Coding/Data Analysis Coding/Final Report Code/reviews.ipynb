{
 "cells": [
  {
   "cell_type": "code",
   "execution_count": 1,
   "metadata": {},
   "outputs": [
    {
     "name": "stdout",
     "output_type": "stream",
     "text": [
      "Reading in data...\n",
      "   listing_id         id        date  reviewer_id reviewer_name  \\\n",
      "0        1419   38924112  2015-07-19     11308465       Marcela   \n",
      "1        1419   44791978  2015-08-29      9580285         Marco   \n",
      "2        1419   45957133  2015-09-07     38394721        Andrea   \n",
      "3        1419   67295154  2016-03-28      3515044         Shaun   \n",
      "4        1419  177702208  2017-08-03     13987100          Kate   \n",
      "\n",
      "                                            comments  \n",
      "0  Having the opportunity of arriving to Alexandr...  \n",
      "1  We have no enough words to describe how beauty...  \n",
      "2  The listing was exceptional and an even better...  \n",
      "3  Alexandra's home was amazing and in such a nea...  \n",
      "4  Beautiful home. Very comfortable and clean. Pe...  \n",
      "listing_id        int64\n",
      "id                int64\n",
      "date             object\n",
      "reviewer_id       int64\n",
      "reviewer_name    object\n",
      "comments         object\n",
      "dtype: object\n"
     ]
    },
    {
     "data": {
      "text/plain": [
       "<Figure size 200x200 with 0 Axes>"
      ]
     },
     "metadata": {},
     "output_type": "display_data"
    }
   ],
   "source": [
    "#### Load multiple time series\n",
    "# import all modules\n",
    "import pandas as pd\n",
    "import numpy as np\n",
    "import seaborn as sns\n",
    "import matplotlib\n",
    "matplotlib.use('agg')\n",
    "import matplotlib.pyplot as plt\n",
    "%matplotlib inline\n",
    "fig1 = plt.figure(figsize=(2, 2), dpi=100)\n",
    "%config InlineBackend.figure_format = 'retina'\n",
    "import datetime\n",
    "from matplotlib.dates import DateFormatter\n",
    "from matplotlib.dates import HourLocator\n",
    "# Import data\n",
    "print(\"Reading in data...\")\n",
    "filepath = \"C:/Users/Lenovo/Desktop/Rental/airbnb/reviews.csv.gz\"\n",
    "df= pd.read_csv(filepath, header=0, index_col=None)\n",
    "print(df.head(5))\n",
    "# Check the type of each column in your DataFrame\n",
    "print(df.dtypes)"
   ]
  },
  {
   "cell_type": "code",
   "execution_count": null,
   "metadata": {},
   "outputs": [],
   "source": []
  },
  {
   "cell_type": "code",
   "execution_count": null,
   "metadata": {},
   "outputs": [],
   "source": []
  },
  {
   "cell_type": "code",
   "execution_count": null,
   "metadata": {},
   "outputs": [],
   "source": []
  },
  {
   "cell_type": "code",
   "execution_count": null,
   "metadata": {},
   "outputs": [],
   "source": []
  },
  {
   "cell_type": "code",
   "execution_count": null,
   "metadata": {},
   "outputs": [],
   "source": []
  },
  {
   "cell_type": "code",
   "execution_count": null,
   "metadata": {},
   "outputs": [],
   "source": []
  },
  {
   "cell_type": "code",
   "execution_count": null,
   "metadata": {},
   "outputs": [],
   "source": []
  },
  {
   "cell_type": "code",
   "execution_count": null,
   "metadata": {},
   "outputs": [],
   "source": []
  },
  {
   "cell_type": "code",
   "execution_count": null,
   "metadata": {},
   "outputs": [],
   "source": []
  },
  {
   "cell_type": "code",
   "execution_count": null,
   "metadata": {},
   "outputs": [],
   "source": []
  },
  {
   "cell_type": "code",
   "execution_count": null,
   "metadata": {},
   "outputs": [],
   "source": []
  },
  {
   "cell_type": "code",
   "execution_count": null,
   "metadata": {},
   "outputs": [],
   "source": []
  },
  {
   "cell_type": "code",
   "execution_count": null,
   "metadata": {},
   "outputs": [],
   "source": []
  },
  {
   "cell_type": "code",
   "execution_count": 2,
   "metadata": {},
   "outputs": [
    {
     "name": "stderr",
     "output_type": "stream",
     "text": [
      "Using TensorFlow backend.\n"
     ]
    }
   ],
   "source": [
    "import numpy as np\n",
    "import pandas as pd\n",
    "import os\n",
    "import string\n",
    "from sklearn.model_selection import train_test_split\n",
    "import tensorflow \n",
    "import keras\n",
    "from keras.models import Sequential, save_model, load_model\n",
    "from keras.layers import Embedding, LSTM, Dense, Flatten\n",
    "from keras.preprocessing.text import Tokenizer\n",
    "from keras.preprocessing.sequence import pad_sequences\n",
    "import matplotlib.pyplot as plt\n",
    "import datetime\n",
    "import math\n"
   ]
  },
  {
   "cell_type": "code",
   "execution_count": 3,
   "metadata": {},
   "outputs": [
    {
     "name": "stderr",
     "output_type": "stream",
     "text": [
      "C:\\Users\\Lenovo\\Anaconda3\\envs\\tensorflow\\lib\\site-packages\\IPython\\core\\interactiveshell.py:3209: DtypeWarning: Columns (88) have mixed types. Specify dtype option on import or set low_memory=False.\n",
      "  if (yield from self.run_code(code, result)):\n",
      "C:\\Users\\Lenovo\\Anaconda3\\envs\\tensorflow\\lib\\site-packages\\pandas\\core\\ops.py:1649: FutureWarning: elementwise comparison failed; returning scalar instead, but in the future will perform elementwise comparison\n",
      "  result = method(y)\n"
     ]
    }
   ],
   "source": [
    "def load_airbnb_datasets():\n",
    "    '''\n",
    "    Run this if you need to load in the Boston Airbnb datasets\n",
    "    '''\n",
    "    df_listings = pd.read_csv('C:/Users/Lenovo/Desktop/Rental/airbnb/listings.csv')\n",
    "    df_reviews = pd.read_csv('C:/Users/Lenovo/Desktop/Rental/airbnb/reviews.csv.gz')\n",
    "    df_calendar = pd.read_csv('C:/Users/Lenovo/Desktop/Rental/airbnb/calendar/calendar_jan_2019.csv.gz')\n",
    "    df_reviews= df_reviews[np.isfinite(df_reviews['id'])]\n",
    "    df_reviews= df_reviews[np.isfinite(df_reviews['listing_id'])]\n",
    "    df_reviews= df_reviews.dropna(how='any')\n",
    "    df_reviews[df_reviews == 'NA'] = np.nan\n",
    "    df_reviews.isnull().sum()\n",
    "    return df_calendar, df_listings, df_reviews\n",
    "df_calendar, df_listings, df_reviews = load_airbnb_datasets()"
   ]
  },
  {
   "cell_type": "code",
   "execution_count": 4,
   "metadata": {},
   "outputs": [
    {
     "name": "stdout",
     "output_type": "stream",
     "text": [
      "    listing_id         id        date  reviewer_id    reviewer_name  \\\n",
      "0         1419   38924112  2015-07-19     11308465          Marcela   \n",
      "1         1419   44791978  2015-08-29      9580285            Marco   \n",
      "2         1419   45957133  2015-09-07     38394721           Andrea   \n",
      "3         1419   67295154  2016-03-28      3515044            Shaun   \n",
      "4         1419  177702208  2017-08-03     13987100             Kate   \n",
      "5         1419  179394665  2017-08-07    111148735          Melissa   \n",
      "6         1419  216619832  2017-12-04     46323833           Rachel   \n",
      "7         8077       7830  2009-08-20        12750        Margarita   \n",
      "8         8077       9941  2009-09-13        30020            Sunny   \n",
      "9         8077      11995  2009-09-30        36786   Collin & Nandi   \n",
      "10        8077      12177  2009-10-02        36703            Wendy   \n",
      "11        8077      18294  2009-11-25         7386         Adrienne   \n",
      "12        8077      18890  2009-11-30        57824          Michele   \n",
      "13        8077      20726  2009-12-18        61497            Malik   \n",
      "14        8077      23030  2010-01-03        51301          Michele   \n",
      "15        8077      28374  2010-03-05        63186  Steve & Breanna   \n",
      "16        8077      28640  2010-03-07        86496            Susan   \n",
      "17        8077      32908  2010-04-03        75771           Verena   \n",
      "18        8077      37738  2010-04-25        78792          Quentin   \n",
      "19        8077      43266  2010-05-17        88526              Don   \n",
      "20        8077      58434  2010-06-28       133129            Ruben   \n",
      "21        8077      61600  2010-07-06       105890           Ulikah   \n",
      "22        8077      63274  2010-07-11        85743            Donna   \n",
      "23        8077      71707  2010-07-31       181730           'Bebe'   \n",
      "24        8077      77771  2010-08-13       163172         Jennifer   \n",
      "25        8077      81996  2010-08-21        21505          Jeannie   \n",
      "26        8077      83756  2010-08-24       101870            Sarah   \n",
      "27        8077      85222  2010-08-26       206679            Tanya   \n",
      "28        8077      88616  2010-09-01       185325            Kiran   \n",
      "29        8077      93131  2010-09-08       187715            Susan   \n",
      "30        8077     101688  2010-09-21       107807           Leslie   \n",
      "31        8077     103324  2010-09-23       209169          Andreas   \n",
      "32        8077     106943  2010-09-28        58531            Bruce   \n",
      "33        8077     113701  2010-10-07       243084            Halla   \n",
      "34        8077     117380  2010-10-12       215842            Ethan   \n",
      "35        8077     120304  2010-10-16       255083           Andrew   \n",
      "36        8077     122580  2010-10-19       244432            Peter   \n",
      "37        8077     129599  2010-10-30       116155     Cy & Jeannie   \n",
      "38        8077     132192  2010-11-02        54169            Shawn   \n",
      "39        8077     137353  2010-11-11        19234            Scott   \n",
      "40        8077     140528  2010-11-16       121543            Aaron   \n",
      "41        8077     141866  2010-11-20       243098            Tracy   \n",
      "42        8077     143717  2010-11-23       271045          William   \n",
      "43        8077     145720  2010-11-28       275316            Byron   \n",
      "44        8077     149327  2010-12-06       260718             Jani   \n",
      "45        8077     156832  2010-12-21       244232           Ariane   \n",
      "46        8077     162496  2011-01-02       312798              Ken   \n",
      "47        8077     175987  2011-01-29       325994            Paddy   \n",
      "48        8077     178037  2011-02-03       371298            Wilma   \n",
      "49        8077     186553  2011-02-22       253409          Richard   \n",
      "\n",
      "                                             comments  \n",
      "0   Having the opportunity of arriving to Alexandr...  \n",
      "1   We have no enough words to describe how beauty...  \n",
      "2   The listing was exceptional and an even better...  \n",
      "3   Alexandra's home was amazing and in such a nea...  \n",
      "4   Beautiful home. Very comfortable and clean. Pe...  \n",
      "5   Alexandra was such an incredible host during o...  \n",
      "6   The host canceled this reservation 22 days bef...  \n",
      "7   We had a lovely time in Toronto! Kathie and La...  \n",
      "8   Great hosts, great apartment and we loved stay...  \n",
      "9   We really enjoyed staying at Kathie and Larry'...  \n",
      "10  \\r\\nThe view of the CN tower is just as the we...  \n",
      "11  Not only are Larry and Kathie gracious hosts, ...  \n",
      "12  I had a wonderful stay at Kathie and Larry's p...  \n",
      "13  What can I say that hasn't already been said a...  \n",
      "14  We had an amazing time at Larry and Kathie's p...  \n",
      "15  We had such a great experience at Kathie and L...  \n",
      "16  Wonderful hosts, wonderful room and an amazing...  \n",
      "17  Kathie and Larry were great hosts that warmly ...  \n",
      "18  We can't think of any reason to stay anywhere ...  \n",
      "19  Had an absolutely wonderful time. Larry and Ka...  \n",
      "20  Had a wonderful time @ Katie&Larry's! They mad...  \n",
      "21  WONDERFULL couple, fantasic room. You guys mad...  \n",
      "22  Larry and Kathy - had a great time.  Thanks fo...  \n",
      "23  Kathie and Larry are welomeing, intelligent, c...  \n",
      "24  Kathie and Larry were absolutely tremendous. T...  \n",
      "25  I stayed at the Harbour Front Room with my fri...  \n",
      "26  What a beautiful couple.  Kathie and Larry wer...  \n",
      "27  We had a fabulous time with Larry and Kathie o...  \n",
      "28  Nice clean comfortable room in a fantastic saf...  \n",
      "29  Kathie, Larry, and their home were awesome. \\r...  \n",
      "30  Excellent stay.\\r\\nThe location was central an...  \n",
      "31  I really enjoyed my stay with Kathie & Larry. ...  \n",
      "32  Kathie & Larry's apartment was perfect for all...  \n",
      "33  Kathie & Larry Young are wonderful people. The...  \n",
      "34  This was our first experience with airbnb and ...  \n",
      "35  Kathie and Larry were great hosts - very accom...  \n",
      "36  Kathie and Larry are very kind couple! They he...  \n",
      "37  We loved our stay in Toronto, Kathie and Larry...  \n",
      "38  my only regret with staying at Kathie and  Lar...  \n",
      "39  Thank you soooo much for your hospitality! You...  \n",
      "40  Kathie and Larry are Airbnb rockstars!  I stay...  \n",
      "41  Well well well! This has got to be Airbnb's fl...  \n",
      "42  It was our good fortune to find this accommoda...  \n",
      "43  We could not be happier about our stay with Ka...  \n",
      "44  Our stay was wonderful and Kathie and Larry ar...  \n",
      "45  Staying at Kathie and Larry's place was a grea...  \n",
      "46  Kathie and Larry were excellent hosts with a g...  \n",
      "47  This was my first Airbnb stay and I could not ...  \n",
      "48  Very easy to reach from subway or train statio...  \n",
      "49  Kathie and Larry's place was absolutely perfec...  \n"
     ]
    }
   ],
   "source": [
    "print(df_reviews.head(50))"
   ]
  },
  {
   "cell_type": "code",
   "execution_count": 5,
   "metadata": {},
   "outputs": [
    {
     "name": "stdout",
     "output_type": "stream",
     "text": [
      "Minimum number of reviews: 1\n",
      "Maximum number of reviews: 677\n"
     ]
    }
   ],
   "source": [
    "ids, counts = np.unique(df_reviews['listing_id'], return_counts = True)\n",
    "print('Minimum number of reviews: ' + str(min(counts)))\n",
    "print('Maximum number of reviews: ' + str(max(counts)))"
   ]
  },
  {
   "cell_type": "code",
   "execution_count": 6,
   "metadata": {},
   "outputs": [
    {
     "name": "stdout",
     "output_type": "stream",
     "text": [
      "Number of listings with greater than 100 reviews: 8502\n",
      "\n",
      "Indices of listings with greater than 100 reviews:\n",
      "[    1     2     3 ... 15892 15901 15936]\n",
      "\n",
      "Associated listings with greater than 100 reviews:\n",
      "[    8077    23691    26654 ... 32201920 32232905 32317104]\n"
     ]
    }
   ],
   "source": [
    "gt_100 = np.where(counts > 10)[0]\n",
    "ids_gt_100 = ids[gt_100]\n",
    "\n",
    "print('Number of listings with greater than 100 reviews: ' + str(len(gt_100)))\n",
    "print('\\nIndices of listings with greater than 100 reviews:\\n' + str(gt_100))\n",
    "print('\\nAssociated listings with greater than 100 reviews:\\n' + str(ids_gt_100))"
   ]
  },
  {
   "cell_type": "code",
   "execution_count": 7,
   "metadata": {},
   "outputs": [],
   "source": [
    "def strip_punctuation_and_whitespace(reviews_df, verbose = True):\n",
    "    '''\n",
    "    Strips all punctuation and whitespace from reviews EXCEPT spaces (i.e. ' ')\n",
    "    Removes \"<br />\"\n",
    "    Returns dataframe of cleaned IMDB reviews\n",
    "    '''\n",
    "    trans_punc = str.maketrans(string.punctuation,\n",
    "                               ' ' * len(string.punctuation))\n",
    "    whitespace_except_space = string.whitespace.replace(' ', '')\n",
    "    trans_white = str.maketrans(whitespace_except_space,\n",
    "                                ' ' * len(whitespace_except_space))\n",
    "    stripped_df = pd.DataFrame(columns = ['review', 'sentiment'])\n",
    "    for i, row in enumerate(reviews_df.values):\n",
    "        if i % 5000 == 0 and verbose == True:\n",
    "            print('Stripping review: ' + str(i) + ' of ' + str(len(reviews_df)))\n",
    "        if type(reviews_df) == pd.DataFrame:\n",
    "            review = row[0]\n",
    "            sentiment = row[1]\n",
    "        elif type(reviews_df) == pd.Series:\n",
    "            review = row\n",
    "            sentiment = np.NaN\n",
    "        try:\n",
    "            review.replace('<br />', ' ')\n",
    "            for trans in [trans_punc, trans_white]:\n",
    "                review = ' '.join(str(review).translate(trans).split())\n",
    "            combined_df = pd.DataFrame([[review, sentiment]],\n",
    "                                       columns = ['review', 'sentiment'])\n",
    "            stripped_df = pd.concat([stripped_df, combined_df],\n",
    "                                    ignore_index = True)\n",
    "        except AttributeError:\n",
    "            continue\n",
    "    return stripped_df"
   ]
  },
  {
   "cell_type": "code",
   "execution_count": 8,
   "metadata": {},
   "outputs": [],
   "source": [
    "def get_length_all_reviews(sentences):\n",
    "    '''\n",
    "    Returns a list of length of all reviews\n",
    "    Used for plotting histogram\n",
    "    '''\n",
    "    lengths = [len(i.split(' ')) for i in sentences]\n",
    "    return lengths"
   ]
  },
  {
   "cell_type": "code",
   "execution_count": 9,
   "metadata": {},
   "outputs": [],
   "source": [
    "def create_tokenizer(max_words_to_keep, words_review_df):\n",
    "    '''\n",
    "    Creates tokenizer\n",
    "    Returns a tokenizer object and reviews converted to integers\n",
    "    '''\n",
    "    tokenizer = Tokenizer(num_words = max_words_to_keep,\n",
    "                          lower = True,\n",
    "                          split = ' ')\n",
    "    tokenizer.fit_on_texts(words_review_df['review'].values)\n",
    "    return tokenizer, \\\n",
    "           tokenizer.texts_to_sequences(words_review_df['review'].values)\n",
    "imdb_sequence_length = 500\n",
    "vocabulary_length = 500"
   ]
  },
  {
   "cell_type": "code",
   "execution_count": 10,
   "metadata": {},
   "outputs": [],
   "source": [
    "def pad_zeros(encoded_reviews, padding_length, padding = 'pre'):\n",
    "    '''\n",
    "    Pads integer reviews either left ('pre') or right ('post')\n",
    "    '''\n",
    "    return pad_sequences(encoded_reviews,\n",
    "                         maxlen = padding_length,\n",
    "                         padding = padding)"
   ]
  },
  {
   "cell_type": "code",
   "execution_count": null,
   "metadata": {},
   "outputs": [],
   "source": []
  },
  {
   "cell_type": "code",
   "execution_count": null,
   "metadata": {},
   "outputs": [],
   "source": []
  },
  {
   "cell_type": "code",
   "execution_count": null,
   "metadata": {},
   "outputs": [],
   "source": [
    "def create_LSTM_model(vocab_length, in_length, opt = 'Adagrad',\n",
    "                      learning_rate = 0.01):\n",
    "    ''''\n",
    "    Returns 1-layer LSTM model\n",
    "    '''\n",
    "    model = Sequential()\n",
    "    model.add(Embedding(vocab_length, 32))\n",
    "    model.add(LSTM(32))\n",
    "    model.add(Dense(1, activation = 'sigmoid'))\n",
    "    optimizer = getattr(keras.optimizers, opt)(lr = learning_rate)\n",
    "    model.compile(loss = 'binary_crossentropy',\n",
    "                  optimizer = optimizer,\n",
    "                  metrics = ['accuracy'])\n",
    "    return model\n",
    "\n",
    "LSTM_model = create_LSTM_model(vocabulary_length,\n",
    "                               imdb_sequence_length,\n",
    "                               opt = 'Adagrad',\n",
    "                               learning_rate = 0.01)\n",
    "print(LSTM_model.summary())"
   ]
  },
  {
   "cell_type": "code",
   "execution_count": 23,
   "metadata": {},
   "outputs": [
    {
     "name": "stdout",
     "output_type": "stream",
     "text": [
      "--- Listing ID 8077 ---\n",
      "Predicted Rating: [40.2] vs. Actual Rating: [97.0]\n",
      "--- Listing ID 23691 ---\n",
      "Predicted Rating: [48.3] vs. Actual Rating: [95.0]\n",
      "--- Listing ID 26654 ---\n",
      "Predicted Rating: [61.1] vs. Actual Rating: [95.0]\n",
      "--- Listing ID 27423 ---\n",
      "Predicted Rating: [34.6] vs. Actual Rating: [98.0]\n",
      "--- Listing ID 40456 ---\n",
      "Predicted Rating: [27.6] vs. Actual Rating: [92.0]\n",
      "--- Listing ID 41887 ---\n",
      "Predicted Rating: [47.4] vs. Actual Rating: [94.0]\n",
      "--- Listing ID 43964 ---\n",
      "Predicted Rating: [48.0] vs. Actual Rating: [99.0]\n",
      "--- Listing ID 44452 ---\n",
      "Predicted Rating: [48.9] vs. Actual Rating: [77.0]\n",
      "--- Listing ID 45399 ---\n",
      "Predicted Rating: [52.3] vs. Actual Rating: [80.0]\n",
      "--- Listing ID 45893 ---\n",
      "Predicted Rating: [29.4] vs. Actual Rating: [84.0]\n",
      "--- Listing ID 50110 ---\n",
      "Predicted Rating: [55.0] vs. Actual Rating: [92.0]\n",
      "--- Listing ID 51616 ---\n",
      "Predicted Rating: [33.3] vs. Actual Rating: [98.0]\n",
      "--- Listing ID 64003 ---\n",
      "Predicted Rating: [53.8] vs. Actual Rating: [96.0]\n"
     ]
    },
    {
     "ename": "IndexError",
     "evalue": "index 0 is out of bounds for axis 0 with size 0",
     "output_type": "error",
     "traceback": [
      "\u001b[1;31m---------------------------------------------------------------------------\u001b[0m",
      "\u001b[1;31mIndexError\u001b[0m                                Traceback (most recent call last)",
      "\u001b[1;32m<ipython-input-23-28bcc5ce15ee>\u001b[0m in \u001b[0;36m<module>\u001b[1;34m\u001b[0m\n\u001b[0;32m     30\u001b[0m     \u001b[1;31m# Print comparisons\u001b[0m\u001b[1;33m\u001b[0m\u001b[1;33m\u001b[0m\u001b[1;33m\u001b[0m\u001b[0m\n\u001b[0;32m     31\u001b[0m     \u001b[0mactual_rating\u001b[0m \u001b[1;33m=\u001b[0m \u001b[0mdf_listings\u001b[0m\u001b[1;33m.\u001b[0m\u001b[0mloc\u001b[0m\u001b[1;33m[\u001b[0m\u001b[0mdf_listings\u001b[0m\u001b[1;33m[\u001b[0m\u001b[1;34m'id'\u001b[0m\u001b[1;33m]\u001b[0m \u001b[1;33m==\u001b[0m \u001b[0mtemp_id\u001b[0m\u001b[1;33m]\u001b[0m\u001b[0;31m\\\u001b[0m\u001b[1;33m\u001b[0m\u001b[1;33m\u001b[0m\u001b[0m\n\u001b[1;32m---> 32\u001b[1;33m                     \u001b[1;33m[\u001b[0m\u001b[1;34m'review_scores_rating'\u001b[0m\u001b[1;33m]\u001b[0m\u001b[1;33m.\u001b[0m\u001b[0mvalues\u001b[0m\u001b[1;33m[\u001b[0m\u001b[1;36m0\u001b[0m\u001b[1;33m]\u001b[0m\u001b[1;33m\u001b[0m\u001b[1;33m\u001b[0m\u001b[0m\n\u001b[0m\u001b[0;32m     33\u001b[0m     print('--- Listing ID ' + str(temp_id) + ' ---\\nPredicted Rating: [' + \\\n\u001b[0;32m     34\u001b[0m           \u001b[0mstr\u001b[0m\u001b[1;33m(\u001b[0m\u001b[0mpredicted_rating\u001b[0m\u001b[1;33m)\u001b[0m \u001b[1;33m+\u001b[0m \u001b[1;34m'] vs. Actual Rating: ['\u001b[0m \u001b[1;33m+\u001b[0m\u001b[0;31m \u001b[0m\u001b[0;31m\\\u001b[0m\u001b[1;33m\u001b[0m\u001b[1;33m\u001b[0m\u001b[0m\n",
      "\u001b[1;31mIndexError\u001b[0m: index 0 is out of bounds for axis 0 with size 0"
     ]
    }
   ],
   "source": [
    "ratings = {}\n",
    "\n",
    "for temp_id in ids_gt_100:\n",
    "    temp_comments = df_reviews.loc[df_reviews['listing_id'] == \\\n",
    "                                   temp_id]['comments']\n",
    "    \n",
    "    # Rename for function, then strip punctuation and whitespace\n",
    "    temp_comments.rename('review', inplace = True)\n",
    "    stripped_airbnb = strip_punctuation_and_whitespace(temp_comments,\n",
    "                                                       verbose = False)\n",
    "    \n",
    "    # Plot histogram of review length. Find sequence cutoff length\n",
    "    airbnb_lengths = get_length_all_reviews(stripped_airbnb['review'])\n",
    "    #plot_histogram(airbnb_lengths, 1000)\n",
    "    airbnb_sequence_length =1000\n",
    "    \n",
    "    # Tokenizer with 10000 word vocabulary\n",
    "    airbnb_tokenizer, airbnb_integer_reviews = \\\n",
    "                                            create_tokenizer(vocabulary_length,\n",
    "                                                             stripped_airbnb)\n",
    "    # Pad zeros up to airbnb_sequence_length\n",
    "    airbnb_padded_reviews = pad_zeros(airbnb_integer_reviews,\n",
    "                                      airbnb_sequence_length,\n",
    "                                      padding = 'pre')\n",
    "    \n",
    "    # Predict sentiment\n",
    "    airbnb_sentiments = LSTM_model.predict_classes(airbnb_padded_reviews)\n",
    "    predicted_rating = round(airbnb_sentiments.mean() * 100, 1)\n",
    "\n",
    "    # Print comparisons\n",
    "    actual_rating = df_listings.loc[df_listings['id'] == temp_id]\\\n",
    "                    ['review_scores_rating'].values[0]\n",
    "    print('--- Listing ID ' + str(temp_id) + ' ---\\nPredicted Rating: [' + \\\n",
    "          str(predicted_rating) + '] vs. Actual Rating: [' + \\\n",
    "          str(actual_rating) + ']')\n",
    "    ratings[temp_id] = [actual_rating, predicted_rating]"
   ]
  },
  {
   "cell_type": "code",
   "execution_count": null,
   "metadata": {},
   "outputs": [],
   "source": []
  },
  {
   "cell_type": "code",
   "execution_count": 14,
   "metadata": {},
   "outputs": [],
   "source": [
    "split = 0.7\n",
    "X_train, X_test, y_train, y_test = train_test_split( airbnb_padded_reviews,\n",
    "                                                    stripped_airbnb['sentiment'],\n",
    "                                                    test_size = split,\n",
    "                                                    random_state = 70)"
   ]
  },
  {
   "cell_type": "code",
   "execution_count": null,
   "metadata": {},
   "outputs": [],
   "source": []
  },
  {
   "cell_type": "code",
   "execution_count": 15,
   "metadata": {},
   "outputs": [
    {
     "name": "stdout",
     "output_type": "stream",
     "text": [
      "WARNING:tensorflow:From C:\\Users\\Lenovo\\Anaconda3\\envs\\tensorflow\\lib\\site-packages\\tensorflow\\python\\ops\\math_ops.py:3066: to_int32 (from tensorflow.python.ops.math_ops) is deprecated and will be removed in a future version.\n",
      "Instructions for updating:\n",
      "Use tf.cast instead.\n",
      "Train on 4 samples, validate on 11 samples\n",
      "Epoch 1/10\n",
      "4/4 [==============================] - 3s 711ms/step - loss: nan - acc: 0.0000e+00 - val_loss: nan - val_acc: 0.0000e+00\n",
      "Epoch 2/10\n",
      "4/4 [==============================] - 1s 192ms/step - loss: nan - acc: 0.0000e+00 - val_loss: nan - val_acc: 0.0000e+00\n",
      "Epoch 3/10\n",
      "4/4 [==============================] - 1s 197ms/step - loss: nan - acc: 0.0000e+00 - val_loss: nan - val_acc: 0.0000e+00\n",
      "Epoch 4/10\n",
      "4/4 [==============================] - 1s 200ms/step - loss: nan - acc: 0.0000e+00 - val_loss: nan - val_acc: 0.0000e+00\n",
      "Epoch 5/10\n",
      "4/4 [==============================] - 1s 196ms/step - loss: nan - acc: 0.0000e+00 - val_loss: nan - val_acc: 0.0000e+00\n",
      "Epoch 6/10\n",
      "4/4 [==============================] - 1s 194ms/step - loss: nan - acc: 0.0000e+00 - val_loss: nan - val_acc: 0.0000e+00\n",
      "Epoch 7/10\n",
      "4/4 [==============================] - 1s 197ms/step - loss: nan - acc: 0.0000e+00 - val_loss: nan - val_acc: 0.0000e+00\n",
      "Epoch 8/10\n",
      "4/4 [==============================] - 1s 197ms/step - loss: nan - acc: 0.0000e+00 - val_loss: nan - val_acc: 0.0000e+00\n",
      "Epoch 9/10\n",
      "4/4 [==============================] - 1s 193ms/step - loss: nan - acc: 0.0000e+00 - val_loss: nan - val_acc: 0.0000e+00\n",
      "Epoch 10/10\n",
      "4/4 [==============================] - 1s 193ms/step - loss: nan - acc: 0.0000e+00 - val_loss: nan - val_acc: 0.0000e+00\n"
     ]
    }
   ],
   "source": [
    "ep = 10\n",
    "LSTM_history = LSTM_model.fit(X_train, y_train,\n",
    "                              validation_data = (X_test, y_test),\n",
    "                              batch_size = 10, epochs = ep, verbose = 1)"
   ]
  },
  {
   "cell_type": "code",
   "execution_count": null,
   "metadata": {},
   "outputs": [],
   "source": [
    "plt.plot(range(10), LSTM_history.history['val_acc'], '--o')\n",
    "plt.xlabel('Epochs')\n",
    "plt.ylabel('Accuracy')\n",
    "plt.title('Validation Accuracy After {} Epochs'.format(ep))\n",
    "plt.show()"
   ]
  },
  {
   "cell_type": "code",
   "execution_count": 24,
   "metadata": {},
   "outputs": [
    {
     "data": {
      "text/plain": [
       "[[77.0, 48.9],\n",
       " [80.0, 52.3],\n",
       " [84.0, 29.4],\n",
       " [92.0, 27.6],\n",
       " [92.0, 55.0],\n",
       " [94.0, 47.4],\n",
       " [95.0, 48.3],\n",
       " [95.0, 61.1],\n",
       " [96.0, 53.8],\n",
       " [97.0, 40.2],\n",
       " [98.0, 33.3],\n",
       " [98.0, 34.6],\n",
       " [99.0, 48.0]]"
      ]
     },
     "execution_count": 24,
     "metadata": {},
     "output_type": "execute_result"
    }
   ],
   "source": [
    "sorted_ratings = [ratings[i] for i in ratings]\n",
    "sorted_ratings.sort()\n",
    "sorted_ratings"
   ]
  },
  {
   "cell_type": "code",
   "execution_count": 25,
   "metadata": {},
   "outputs": [
    {
     "name": "stdout",
     "output_type": "stream",
     "text": [
      "First 10 Actual Ratings: \n",
      "[77.0, 80.0, 84.0, 92.0, 92.0, 94.0, 95.0, 95.0, 96.0, 97.0]\n",
      "\n",
      "First 10 Predicted Ratings: \n",
      "[48.9, 52.3, 29.4, 27.6, 55.0, 47.4, 48.3, 61.1, 53.8, 40.2]\n"
     ]
    }
   ],
   "source": [
    "plot_actual_ratings = [rating[0] for rating in sorted_ratings]\n",
    "plot_predicted_ratings = [rating[1] for rating in sorted_ratings]\n",
    "\n",
    "print('First 10 Actual Ratings: \\n' + str(plot_actual_ratings[0:10]))\n",
    "print('\\nFirst 10 Predicted Ratings: \\n' + str(plot_predicted_ratings[0:10]))"
   ]
  },
  {
   "cell_type": "code",
   "execution_count": 37,
   "metadata": {},
   "outputs": [
    {
     "data": {
      "image/png": "[encoded data removed]",
      "text/plain": [
       "<Figure size 432x288 with 2 Axes>"
      ]
     },
     "metadata": {
      "image/png": {
       "height": 277,
       "width": 422
      }
     },
     "output_type": "display_data"
    }
   ],
   "source": [
    "plot_actual_ratings = [77.0, 80.0, 84.0, 92.0, 92.0, 94.0, 95.0, 95.0, 96.0, 97.0]\n",
    "plot_predicted_ratings_adam = [53.3, 41.5, 52.9, 50.0, 50.0, 43.6, 46.9, 47.2, 35.0, 43.2]\n",
    "plot_predicted_ratings_adamax = [55.6, 55.4, 35.3, 55.0, 58.2, 56.4, 50.0, 60.9, 57.5, 66.9]\n",
    "plot_predicted_ratings_SGD = [73.3, 75.4, 82.4, 59.2, 70.0, 57.7, 69.4, 77.3, 76.2, 61.5]\n",
    "plot_predicted_ratings_Adadelta = [48.9, 52.3, 29.4, 27.6, 55.0, 47.4, 48.3, 61.1, 53.8, 40.2]\n",
    "\n",
    "ax1_min = int(math.floor(min(plot_predicted_ratings_SGD)/5) * 5)\n",
    "\n",
    "fig, ax1 = plt.subplots()\n",
    "predicted_line = ax1.plot(range(len(plot_predicted_ratings_adam)),\n",
    "                          plot_predicted_ratings_adam,\n",
    "                          color = 'orange',\n",
    "                          label = 'Adam Prediction')\n",
    "predicted_line = ax1.plot(range(len(plot_predicted_ratings_adamax)),\n",
    "                          plot_predicted_ratings_adamax,\n",
    "                          color = 'blue',\n",
    "                          label = 'Adamax Prediction')\n",
    "predicted_line = ax1.plot(range(len(plot_predicted_ratings_SGD)),\n",
    "                          plot_predicted_ratings_SGD,\n",
    "                          color = 'red',\n",
    "                          label = 'SGD Prediction')\n",
    "predicted_line = ax1.plot(range(len(plot_predicted_ratings_Adadelta)),\n",
    "                          plot_predicted_ratings_Adadelta,\n",
    "                          color = 'yellow',\n",
    "                          label = 'AdaDelta prediction')\n",
    "ax1.set_xlabel('Listing')\n",
    "ax1.set_ylabel('LSTM Predicted Rating', color = 'orange')\n",
    "ax1.tick_params(axis = 'y', color = 'orange')\n",
    "plt.setp(ax1.get_yticklabels(), color = 'orange')\n",
    "\n",
    "\n",
    "ax2 = ax1.twinx()\n",
    "actual_line = ax2.plot(range(len(plot_actual_ratings)),\n",
    "                       plot_actual_ratings,\n",
    "                       color = 'black',\n",
    "                       label = 'Actual Ratings')\n",
    "ax2.set_ylabel('Actual Ratings', color = 'black')\n",
    "ax2.set_ylim(70, 100)\n",
    "ax2.spines['left'].set_color('orange')\n",
    "\n",
    "ax1.legend()\n",
    "ax2.legend()\n",
    "plt.title('Predicted Ratings vs. Actual Ratings for Toronto Airbnbs')\n",
    "plt.show()"
   ]
  },
  {
   "cell_type": "code",
   "execution_count": null,
   "metadata": {},
   "outputs": [],
   "source": []
  }
 ],
 "metadata": {
  "kernelspec": {
   "display_name": "Python 2",
   "language": "python",
   "name": "python2"
  },
  "language_info": {
   "codemirror_mode": {
    "name": "ipython",
    "version": 2
   },
   "file_extension": ".py",
   "mimetype": "text/x-python",
   "name": "python",
   "nbconvert_exporter": "python",
   "pygments_lexer": "ipython2",
   "version": "2.7.15"
  }
 },
 "nbformat": 4,
 "nbformat_minor": 2
}
