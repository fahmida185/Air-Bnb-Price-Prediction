{
 "cells": [
  {
   "cell_type": "code",
   "execution_count": 1,
   "metadata": {},
   "outputs": [
    {
     "name": "stderr",
     "output_type": "stream",
     "text": [
      "C:\\ProgramData\\Anaconda2\\lib\\site-packages\\ipykernel_launcher.py:7: UserWarning: \n",
      "This call to matplotlib.use() has no effect because the backend has already\n",
      "been chosen; matplotlib.use() must be called *before* pylab, matplotlib.pyplot,\n",
      "or matplotlib.backends is imported for the first time.\n",
      "\n",
      "The backend was *originally* set to 'module://ipykernel.pylab.backend_inline' by the following code:\n",
      "  File \"C:\\ProgramData\\Anaconda2\\lib\\runpy.py\", line 174, in _run_module_as_main\n",
      "    \"__main__\", fname, loader, pkg_name)\n",
      "  File \"C:\\ProgramData\\Anaconda2\\lib\\runpy.py\", line 72, in _run_code\n",
      "    exec code in run_globals\n",
      "  File \"C:\\ProgramData\\Anaconda2\\lib\\site-packages\\ipykernel_launcher.py\", line 16, in <module>\n",
      "    app.launch_new_instance()\n",
      "  File \"C:\\ProgramData\\Anaconda2\\lib\\site-packages\\traitlets\\config\\application.py\", line 658, in launch_instance\n",
      "    app.start()\n",
      "  File \"C:\\ProgramData\\Anaconda2\\lib\\site-packages\\ipykernel\\kernelapp.py\", line 499, in start\n",
      "    self.io_loop.start()\n",
      "  File \"C:\\ProgramData\\Anaconda2\\lib\\site-packages\\tornado\\ioloop.py\", line 1017, in start\n",
      "    self._run_callback(self._callbacks.popleft())\n",
      "  File \"C:\\ProgramData\\Anaconda2\\lib\\site-packages\\tornado\\ioloop.py\", line 758, in _run_callback\n",
      "    ret = callback()\n",
      "  File \"C:\\ProgramData\\Anaconda2\\lib\\site-packages\\tornado\\stack_context.py\", line 300, in null_wrapper\n",
      "    return fn(*args, **kwargs)\n",
      "  File \"C:\\ProgramData\\Anaconda2\\lib\\site-packages\\zmq\\eventloop\\zmqstream.py\", line 536, in <lambda>\n",
      "    self.io_loop.add_callback(lambda : self._handle_events(self.socket, 0))\n",
      "  File \"C:\\ProgramData\\Anaconda2\\lib\\site-packages\\zmq\\eventloop\\zmqstream.py\", line 450, in _handle_events\n",
      "    self._handle_recv()\n",
      "  File \"C:\\ProgramData\\Anaconda2\\lib\\site-packages\\zmq\\eventloop\\zmqstream.py\", line 480, in _handle_recv\n",
      "    self._run_callback(callback, msg)\n",
      "  File \"C:\\ProgramData\\Anaconda2\\lib\\site-packages\\zmq\\eventloop\\zmqstream.py\", line 432, in _run_callback\n",
      "    callback(*args, **kwargs)\n",
      "  File \"C:\\ProgramData\\Anaconda2\\lib\\site-packages\\tornado\\stack_context.py\", line 300, in null_wrapper\n",
      "    return fn(*args, **kwargs)\n",
      "  File \"C:\\ProgramData\\Anaconda2\\lib\\site-packages\\ipykernel\\kernelbase.py\", line 283, in dispatcher\n",
      "    return self.dispatch_shell(stream, msg)\n",
      "  File \"C:\\ProgramData\\Anaconda2\\lib\\site-packages\\ipykernel\\kernelbase.py\", line 233, in dispatch_shell\n",
      "    handler(stream, idents, msg)\n",
      "  File \"C:\\ProgramData\\Anaconda2\\lib\\site-packages\\ipykernel\\kernelbase.py\", line 399, in execute_request\n",
      "    user_expressions, allow_stdin)\n",
      "  File \"C:\\ProgramData\\Anaconda2\\lib\\site-packages\\ipykernel\\ipkernel.py\", line 208, in do_execute\n",
      "    res = shell.run_cell(code, store_history=store_history, silent=silent)\n",
      "  File \"C:\\ProgramData\\Anaconda2\\lib\\site-packages\\ipykernel\\zmqshell.py\", line 537, in run_cell\n",
      "    return super(ZMQInteractiveShell, self).run_cell(*args, **kwargs)\n",
      "  File \"C:\\ProgramData\\Anaconda2\\lib\\site-packages\\IPython\\core\\interactiveshell.py\", line 2714, in run_cell\n",
      "    interactivity=interactivity, compiler=compiler, result=result)\n",
      "  File \"C:\\ProgramData\\Anaconda2\\lib\\site-packages\\IPython\\core\\interactiveshell.py\", line 2818, in run_ast_nodes\n",
      "    if self.run_code(code, result):\n",
      "  File \"C:\\ProgramData\\Anaconda2\\lib\\site-packages\\IPython\\core\\interactiveshell.py\", line 2878, in run_code\n",
      "    exec(code_obj, self.user_global_ns, self.user_ns)\n",
      "  File \"<ipython-input-1-17e978b6c730>\", line 5, in <module>\n",
      "    import seaborn as sns\n",
      "  File \"C:\\ProgramData\\Anaconda2\\lib\\site-packages\\seaborn\\__init__.py\", line 6, in <module>\n",
      "    from .rcmod import *\n",
      "  File \"C:\\ProgramData\\Anaconda2\\lib\\site-packages\\seaborn\\rcmod.py\", line 5, in <module>\n",
      "    from . import palettes, _orig_rc_params\n",
      "  File \"C:\\ProgramData\\Anaconda2\\lib\\site-packages\\seaborn\\palettes.py\", line 12, in <module>\n",
      "    from .utils import desaturate, set_hls_values, get_color_cycle\n",
      "  File \"C:\\ProgramData\\Anaconda2\\lib\\site-packages\\seaborn\\utils.py\", line 11, in <module>\n",
      "    import matplotlib.pyplot as plt\n",
      "  File \"C:\\ProgramData\\Anaconda2\\lib\\site-packages\\matplotlib\\pyplot.py\", line 71, in <module>\n",
      "    from matplotlib.backends import pylab_setup\n",
      "  File \"C:\\ProgramData\\Anaconda2\\lib\\site-packages\\matplotlib\\backends\\__init__.py\", line 16, in <module>\n",
      "    line for line in traceback.format_stack()\n",
      "\n",
      "\n",
      "  import sys\n"
     ]
    },
    {
     "name": "stdout",
     "output_type": "stream",
     "text": [
      "Reading in data...\n",
      "   listing_id        date available  price\n",
      "0  23576324.0  04-07-2019         f    NaN\n",
      "1  21896705.0  04-07-2019         t  210.0\n",
      "2  23146425.0  04-07-2019         f    NaN\n",
      "3  12508971.0  04-07-2019         f    NaN\n",
      "4  21593296.0  04-07-2019         t   43.0\n",
      "listing_id    float64\n",
      "date           object\n",
      "available      object\n",
      "price         float64\n",
      "dtype: object\n"
     ]
    },
    {
     "data": {
      "text/plain": [
       "<Figure size 200x200 with 0 Axes>"
      ]
     },
     "metadata": {},
     "output_type": "display_data"
    }
   ],
   "source": [
    "#### Load multiple time series\n",
    "# import all modules\n",
    "import pandas as pd\n",
    "import numpy as np\n",
    "import seaborn as sns\n",
    "import matplotlib\n",
    "matplotlib.use('agg')\n",
    "import matplotlib.pyplot as plt\n",
    "%matplotlib inline\n",
    "fig1 = plt.figure(figsize=(2, 2), dpi=100)\n",
    "%config InlineBackend.figure_format = 'retina'\n",
    "import datetime\n",
    "from matplotlib.dates import DateFormatter\n",
    "from matplotlib.dates import HourLocator\n",
    "# Import data\n",
    "print(\"Reading in data...\")\n",
    "filepath1 = \"C:/Users/fahmida/Desktop/Rental/airbnb/calendar/calendar_june_2015.csv.gz\"\n",
    "df1= pd.read_csv(filepath1, header=0, index_col=None)\n",
    "filepath2 = \"C:/Users/fahmida/Desktop/Rental/airbnb/calendar/calendar_july_2016.csv.gz\"\n",
    "df2= pd.read_csv(filepath2, header=0, index_col=None)\n",
    "filepath3 = \"C:/Users/fahmida/Desktop/Rental/airbnb/calendar/calendar_june_2017.csv.gz\"\n",
    "df3= pd.read_csv(filepath3, header=0, index_col=None)\n",
    "filepath4 = \"C:/Users/fahmida/Desktop/Rental/airbnb/calendar/calendar_july_2018.csv.gz\"\n",
    "df4= pd.read_csv(filepath4, header=0, index_col=None)\n",
    "filepath5 = \"C:/Users/fahmida/Desktop/Rental/airbnb/calendar/calendar_jan_2019.csv.gz\"\n",
    "df5= pd.read_csv(filepath5, header=0, index_col=None)\n",
    "frames = [df1, df2, df3,df4]\n",
    "df = pd.concat(frames)\n",
    "print(df.head(5))\n",
    "# Check the type of each column in your DataFrame\n",
    "print(df.dtypes)"
   ]
  },
  {
   "cell_type": "code",
   "execution_count": 2,
   "metadata": {},
   "outputs": [
    {
     "name": "stdout",
     "output_type": "stream",
     "text": [
      "   listing_id       date available  price\n",
      "0  23576324.0 2019-04-07         f    NaN\n",
      "1  21896705.0 2019-04-07         t  210.0\n",
      "2  23146425.0 2019-04-07         f    NaN\n",
      "3  12508971.0 2019-04-07         f    NaN\n",
      "4  21593296.0 2019-04-07         t   43.0\n",
      "5  20621335.0 2019-04-07         f    NaN\n",
      "6  21070432.0 2019-04-07         f    NaN\n",
      "7  12023314.0 2019-04-07         f    NaN\n",
      "8  20582373.0 2019-04-07         f    NaN\n",
      "9  12289041.0 2019-04-07         f    NaN\n"
     ]
    }
   ],
   "source": [
    "# Change Dates to consistent format\n",
    "df['date'] = pd.to_datetime(df['date'], format='%m-%d-%Y')\n",
    "#df_all['timestamp_first_active'] = pd.to_datetime(df_all['timestamp_first_active'], format='%Y%m%d%H%M%S')\n",
    "# filling Up Missing Values\n",
    "df['date'].fillna(df.date, inplace=True)\n",
    "print(df.head(10))"
   ]
  },
  {
   "cell_type": "code",
   "execution_count": null,
   "metadata": {},
   "outputs": [
    {
     "name": "stdout",
     "output_type": "stream",
     "text": [
      "            listing_id available  price\n",
      "date                                   \n",
      "2019-04-07  23576324.0         f    NaN\n",
      "2019-04-07  21896705.0         t  210.0\n",
      "2019-04-07  23146425.0         f    NaN\n",
      "2019-04-07  12508971.0         f    NaN\n",
      "2019-04-07  21593296.0         t   43.0\n",
      "2019-04-07  20621335.0         f    NaN\n",
      "2019-04-07  21070432.0         f    NaN\n",
      "2019-04-07  12023314.0         f    NaN\n",
      "2019-04-07  20582373.0         f    NaN\n",
      "2019-04-07  12289041.0         f    NaN\n",
      "2019-04-07  23346033.0         f    NaN\n",
      "2019-04-07  12578052.0         f    NaN\n",
      "2019-04-07    886192.0         t   90.0\n",
      "2019-04-07   2550665.0         f    NaN\n",
      "2019-04-07   5897261.0         t   72.0\n",
      "2019-04-07  19013423.0         t  115.0\n",
      "2019-04-07  14355447.0         t  179.0\n",
      "2019-04-07  15374358.0         f    NaN\n",
      "2019-04-07  13878012.0         f    NaN\n",
      "2019-04-07  20042690.0         f    NaN\n",
      "2019-04-07  23522555.0         f    NaN\n",
      "2019-04-07   6463787.0         t   85.0\n",
      "2019-04-07  23872850.0         f    NaN\n",
      "2019-04-07  22579121.0         f    NaN\n",
      "2019-04-07   3942085.0         t   35.0\n",
      "2019-04-07  23500074.0         f    NaN\n",
      "2019-04-07  21676838.0         f    NaN\n",
      "2019-04-07  23048530.0         f    NaN\n",
      "2019-04-07  13924621.0         f    NaN\n",
      "2019-04-07  10582829.0         f    NaN\n",
      "...                ...       ...    ...\n",
      "2018-04-07  21881599.0         f    NaN\n",
      "2018-04-07  19704631.0         f    NaN\n",
      "2018-04-07  19734830.0         f    NaN\n",
      "2018-04-07   3178188.0         f    NaN\n",
      "2018-04-07  10181061.0         f    NaN\n",
      "2018-04-07  15118725.0         f    NaN\n",
      "2018-04-07  23761110.0         f    NaN\n",
      "2018-04-07  10046150.0         f    NaN\n",
      "2018-04-07   9144333.0         f    NaN\n",
      "2018-04-07  22529423.0         f    NaN\n",
      "2018-04-07   6710783.0         f    NaN\n",
      "2018-04-07  13679189.0         f    NaN\n",
      "2018-04-07  22660771.0         f    NaN\n",
      "2018-04-07  11604860.0         f    NaN\n",
      "2018-04-07   4831179.0         f    NaN\n",
      "2018-04-07  10666791.0         f    NaN\n",
      "2018-04-07  17900503.0         f    NaN\n",
      "2018-04-07  16484035.0         f    NaN\n",
      "2018-04-07  11887450.0         f    NaN\n",
      "2018-04-07   4413645.0         f    NaN\n",
      "2018-04-07   8120135.0         f    NaN\n",
      "2018-04-07   7301966.0         f    NaN\n",
      "2018-04-07   8200977.0         f    NaN\n",
      "2018-04-07   1229932.0         f    NaN\n",
      "2018-04-07  20352744.0         f    NaN\n",
      "2018-04-07  12065591.0         f    NaN\n",
      "2018-04-07  21103217.0         f    NaN\n",
      "2018-04-07   4721743.0         f    NaN\n",
      "2018-04-07  13857694.0         f    NaN\n",
      "2018-04-07   1371048.0         f    NaN\n",
      "\n",
      "[1048575 rows x 3 columns]\n"
     ]
    }
   ],
   "source": [
    "df=df.set_index('date')\n",
    "print(df)\n",
    "y_airbnb = df['listing_id']\n",
    "y_airbnb.plot(kind='bar',figsize=(15, 6))\n",
    "plt.show()\n"
   ]
  },
  {
   "cell_type": "code",
   "execution_count": null,
   "metadata": {},
   "outputs": [],
   "source": [
    "df = df.dropna()\n",
    "print(df)"
   ]
  },
  {
   "cell_type": "code",
   "execution_count": null,
   "metadata": {},
   "outputs": [],
   "source": [
    "from sklearn.svm import LinearSVC\n",
    "import numpy as np\n",
    "import pandas as pd\n",
    "import seaborn as sns\n",
    "import matplotlib\n",
    "import datetime\n",
    "from matplotlib.dates import DateFormatter\n",
    "from matplotlib.dates import HourLocator\n",
    "matplotlib.use('agg')\n",
    "import matplotlib.pyplot as plt\n",
    "%matplotlib inline\n",
    "%config InlineBackend.figure_format = 'retina'\n",
    "from pandas import read_csv\n",
    "from pandas import datetime\n",
    "from matplotlib import pyplot\n",
    "from statsmodels.tsa.arima_model import ARIMA\n",
    "from sklearn.metrics import mean_squared_error\n",
    "y_airbnb = df['price']\n",
    "y_airbnb.plot(figsize=(15, 6))\n",
    "plt.show()\n"
   ]
  },
  {
   "cell_type": "code",
   "execution_count": null,
   "metadata": {},
   "outputs": [],
   "source": []
  },
  {
   "cell_type": "code",
   "execution_count": null,
   "metadata": {},
   "outputs": [],
   "source": [
    "import warnings\n",
    "import itertools\n",
    "import numpy as np\n",
    "import matplotlib.pyplot as plt\n",
    "warnings.filterwarnings(\"ignore\")\n",
    "plt.style.use('fivethirtyeight')\n",
    "import pandas as pd\n",
    "import statsmodels.api as sm\n",
    "import matplotlib\n",
    "from pylab import rcParams\n",
    "mod = sm.tsa.statespace.SARIMAX(y_airbnb,\n",
    "                                order=(1, 1, 1),\n",
    "                                seasonal_order=(1, 1, 0, 12),\n",
    "                                enforce_stationarity=False,\n",
    "                                enforce_invertibility=False)\n",
    "results = mod.fit()\n",
    "print(results.summary().tables[1])"
   ]
  },
  {
   "cell_type": "code",
   "execution_count": null,
   "metadata": {},
   "outputs": [],
   "source": [
    "results.plot_diagnostics(figsize=(16, 8))\n",
    "plt.show()"
   ]
  },
  {
   "cell_type": "code",
   "execution_count": null,
   "metadata": {},
   "outputs": [],
   "source": [
    "#Validating Forecast\n",
    "pred = results.get_prediction(start='2019-04-07', dynamic=False)\n",
    "pred_ci = pred.conf_int()\n",
    "ax = y_airbnb['2019-04':].plot(label='observed')\n",
    "pred.predicted_mean.plot(ax=ax, label='One-step ahead Forecast', alpha=.7, figsize=(14, 7))\n",
    "ax.fill_between(pred_ci.index,\n",
    "                pred_ci.iloc[:, 0],\n",
    "                pred_ci.iloc[:, 1], color='k', alpha=.2)\n",
    "ax.set_xlabel('Date')\n",
    "ax.set_ylabel('AirBnB Price Per Night')\n",
    "plt.legend()\n",
    "plt.show()"
   ]
  },
  {
   "cell_type": "code",
   "execution_count": null,
   "metadata": {},
   "outputs": [],
   "source": [
    "from pandas import Series\n",
    "from statsmodels.graphics.tsaplots import plot_acf\n",
    "from statsmodels.graphics.tsaplots import plot_pacf\n",
    "from matplotlib import pyplot\n",
    "pyplot.figure()\n",
    "pyplot.subplot(211)\n",
    "plot_acf(df.price, ax=pyplot.gca())\n",
    "pyplot.subplot(212)\n",
    "plot_pacf(df.price, ax=pyplot.gca())\n",
    "pyplot.show()"
   ]
  },
  {
   "cell_type": "code",
   "execution_count": null,
   "metadata": {},
   "outputs": [],
   "source": []
  }
 ],
 "metadata": {
  "kernelspec": {
   "display_name": "Python 2",
   "language": "python",
   "name": "python2"
  },
  "language_info": {
   "codemirror_mode": {
    "name": "ipython",
    "version": 2
   },
   "file_extension": ".py",
   "mimetype": "text/x-python",
   "name": "python",
   "nbconvert_exporter": "python",
   "pygments_lexer": "ipython2",
   "version": "2.7.15"
  }
 },
 "nbformat": 4,
 "nbformat_minor": 2
}
