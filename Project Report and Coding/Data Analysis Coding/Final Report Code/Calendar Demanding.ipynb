{
 "cells": [
  {
   "cell_type": "markdown",
   "metadata": {},
   "source": [
    "# Exploring Listings Over a Year\n",
    "\n",
    "#### We were curious to see how a listing's price might change over the course over the year, particularly on holidays. The following explorations helped us come to the very intuitive conclusion that listings change their prices primarily on weekends and holidays! "
   ]
  },
  {
   "cell_type": "code",
   "execution_count": null,
   "metadata": {},
   "outputs": [],
   "source": [
    "import numpy as np\n",
    "from scipy import sparse\n",
    "import re\n",
    "import matplotlib\n",
    "import pandas as pd\n",
    "import seaborn as sns\n",
    "from sklearn import linear_model\n",
    "from sklearn.feature_extraction.text import CountVectorizer\n",
    "from sklearn.neighbors import KNeighborsClassifier as KNN\n",
    "from sklearn.decomposition import PCA\n",
    "from sklearn.linear_model import LogisticRegression as LogReg\n",
    "from sklearn.model_selection import train_test_split as sk_split\n",
    "import matplotlib.pyplot as plt\n",
    "import nltk\n",
    "from nltk.stem import PorterStemmer\n",
    "from mpl_toolkits.mplot3d import Axes3D\n",
    "import matplotlib.cm as cmx\n",
    "import matplotlib.colors as colors\n",
    "import datetime as dt\n",
    "import math\n",
    "%matplotlib inline\n",
    "from sklearn.linear_model import Lasso as Lasso_Reg\n",
    "from ipywidgets import interact,  FloatSlider, RadioButtons\n",
    "import numpy as np \n",
    "import sklearn.preprocessing as Preprocessing\n",
    "from sklearn.preprocessing import StandardScaler as Standardize\n",
    "import matplotlib\n",
    "import matplotlib.pyplot as plt\n",
    "%matplotlib inline\n",
    "from sklearn.linear_model import LinearRegression as Lin_Reg\n",
    "from sklearn.linear_model import Ridge as Ridge_Reg\n",
    "from sklearn.model_selection import train_test_split\n",
    "import statsmodels.api as sm\n",
    "from mpl_toolkits.mplot3d import Axes3D\n",
    "from sklearn.ensemble import GradientBoostingRegressor"
   ]
  },
  {
   "cell_type": "code",
   "execution_count": null,
   "metadata": {},
   "outputs": [],
   "source": [
    "# open calendar dataset \n",
    "df = pd.read_csv(\"C:/Users/fahmida/Desktop/Rental/airbnb/calendar/calendar_april_2018.csv.gz\")\n",
    "# Change Dates to consistent format\n",
    "df['date'] = pd.to_datetime(df['date'], format='%Y-%m-%d')\n",
    "df['day'] = df.date.dt.day\n",
    "df['months'] = df.date.dt.month\n",
    "df['year'] = df.date.dt.year\n",
    "# separate dataframes for months with important holidays \n",
    "df['busy'] = df.available.map( lambda x: 0 if x == 't' else 1)\n",
    "print(df)"
   ]
  },
  {
   "cell_type": "code",
   "execution_count": null,
   "metadata": {},
   "outputs": [],
   "source": [
    "df1=df.groupby(['months', 'busy'])['date'].count()\n",
    "df2=df.groupby(['day', 'busy'])['date'].count()\n",
    "df3=df.groupby(['day','year','busy'])['date'].count()\n",
    "df2.to_csv(\"C:/Users/fahmida/Desktop/Rental/airbnb/calendar/demanding_day.csv\")\n",
    "df3.to_csv(\"C:/Users/fahmida/Desktop/Rental/airbnb/calendar/demanding_365.csv\")\n",
    "df1=pd.read_csv(\"C:/Users/fahmida/Desktop/Rental/airbnb/calendar/demanding1.csv\")\n",
    "df1=df1.dropna(axis=0)\n",
    "print(df1)\n",
    "df1.to_csv(\"C:/Users/fahmida/Desktop/Rental/airbnb/calendar/demanding2.csv\")"
   ]
  },
  {
   "cell_type": "code",
   "execution_count": null,
   "metadata": {},
   "outputs": [],
   "source": [
    "import matplotlib.pyplot as plt\n",
    "sns.lineplot(x=df1['Months'],y=df1['Availability Percentage'], color=\"r\",label = 'Demand')\n",
    "ax2 = plt.twinx()\n",
    "sns.lineplot(x=df1['Months'],y=df1['Average Price'], color=\"b\", ax=ax2,label = 'Price')\n",
    "ax2.set_xticklabels(['Jan', 'Feb', 'Mar', 'Apr', 'May', 'June', 'Jul', 'Aug', 'Sept', 'Oct', 'Nov', 'Dec'])\n",
    "start, end = ax2.get_xlim()\n",
    "ax2.xaxis.set_ticks(np.arange(start, end, 1))\n",
    "ax2.set_xlabel('Month')\n",
    "ax2.set_ylabel('Average Price Per Night')\n",
    "ax2.set_title('Airbnb Market Demand Spike per Month')\n",
    "plt.legend(bbox_to_anchor=(0, 0),\n",
    "           bbox_transform=plt.gcf().transFigure)\n",
    "# Show plot\n",
    "plt.show()"
   ]
  },
  {
   "cell_type": "code",
   "execution_count": null,
   "metadata": {},
   "outputs": [],
   "source": [
    "\n",
    "fig, ax1 = plt.subplots()\n",
    "predicted_line = ax1.plot(range(len(df1['Availability Percentage'])),\n",
    "                          df1['Availability Percentage'],\n",
    "                          color = 'orange',\n",
    "                          label = 'Demand')\n",
    "ax1.set_xticklabels(['Jan', 'Feb', 'Mar', 'Apr', 'May', 'June', 'Jul', 'Aug', 'Sept', 'Oct', 'Nov', 'Dec'])\n",
    "start, end = ax2.get_xlim()\n",
    "ax2.xaxis.set_ticks(np.arange(start, end, 1))\n",
    "ax1.set_ylabel('Demand', color = 'orange')\n",
    "ax1.tick_params(axis = 'y', color = 'orange')\n",
    "plt.setp(ax1.get_yticklabels(), color = 'orange')\n",
    "\n",
    "ax2 = ax1.twinx()\n",
    "actual_line = ax2.plot(range(len(df1['Average Price'])),\n",
    "                       df1['Average Price'],\n",
    "                       color = 'black',\n",
    "                       label = 'Price')\n",
    "ax2.set_ylabel('Price', color = 'black')\n",
    "ax2.spines['left'].set_color('orange')\n",
    "plt.title('Airbnb Market Demand Spike per Month')\n",
    "plt.legend()\n",
    "plt.show()"
   ]
  },
  {
   "cell_type": "code",
   "execution_count": null,
   "metadata": {},
   "outputs": [],
   "source": [
    "ax = sns.factorplot(data = df1, x = 'Months', y = 'Availability Percentage', size=4, aspect=2)  \n",
    "# Plot the average price spike per month (in dollars) \n",
    "ax = plt.gca()\n",
    "ax.set_xticklabels(['Jan', 'Feb', 'Mar', 'Apr', 'May', 'June', 'Jul', 'Aug', 'Sept', 'Oct', 'Nov', 'Dec'])\n",
    "start, end = ax.get_xlim()\n",
    "ax.xaxis.set_ticks(np.arange(start, end, 1))\n",
    "ax.set_xlabel('Month')\n",
    "ax.set_ylabel('Availability(%) of Airbnb Market')\n",
    "ax.set_title('Airbnb Market Demand Spike per Month')"
   ]
  },
  {
   "cell_type": "code",
   "execution_count": null,
   "metadata": {},
   "outputs": [],
   "source": []
  },
  {
   "cell_type": "code",
   "execution_count": null,
   "metadata": {},
   "outputs": [],
   "source": [
    "#df_all['timestamp_first_active'] = pd.to_datetime(df_all['timestamp_first_active'], format='%Y%m%d%H%M%S')\n",
    "# filling Up Missing Values\n",
    "df['price'] = (df['price'].str.replace(r'[^-+\\d.]', '').astype(float))\n",
    "df= df[df['price'] < 2000]\n",
    "df.dropna()\n",
    "df['date'].fillna(df.date, inplace=True)\n",
    "df=df.rename(index=str, columns={\"listing_id\":\"listing\"})"
   ]
  },
  {
   "cell_type": "code",
   "execution_count": null,
   "metadata": {},
   "outputs": [],
   "source": []
  },
  {
   "cell_type": "code",
   "execution_count": null,
   "metadata": {},
   "outputs": [],
   "source": [
    "# separate dataframes for months with important holidays \n",
    "ax = sns.factorplot(data = df, x = 'months', y = 'price', size=4, aspect=2)  \n",
    "# Plot the average price spike per month (in dollars) \n",
    "ax = plt.gca()\n",
    "ax.set_xticklabels(['Jan', 'Feb', 'Mar', 'Apr', 'May', 'June', 'Jul', 'Aug', 'Sept', 'Oct', 'Nov', 'Dec'])\n",
    "start, end = ax.get_xlim()\n",
    "ax.xaxis.set_ticks(np.arange(start, end, 1))\n",
    "ax.set_xlabel('Month')\n",
    "ax.set_ylabel('Price Spike ($)')\n",
    "ax.set_title('Price Spike per Month')"
   ]
  },
  {
   "cell_type": "code",
   "execution_count": null,
   "metadata": {},
   "outputs": [],
   "source": [
    "mean_of_month = df.groupby(df['date'].dt.strftime('%B'),\n",
    "                                 sort=False)['price'].mean()\n",
    "print(mean_of_month)"
   ]
  },
  {
   "cell_type": "markdown",
   "metadata": {},
   "source": [
    "### Price Spikes \n",
    "\n",
    "We explored a portion of the dataset (the full dataset was too costly to run on our computers for certain tasks) to determine which months of the year the most price spikes occured. We created a function that compared a listing's price each day of the year, and documented the day of the year in which the listing had its highest price spike."
   ]
  },
  {
   "cell_type": "code",
   "execution_count": null,
   "metadata": {},
   "outputs": [],
   "source": [
    "# empty dataframe \n",
    "demand_dates = pd.DataFrame(columns=['Differences', 'Date'])\n",
    "\n",
    "# compare prices over course of a year for unique id \n",
    "def difference(unique_id):\n",
    "    temp = df[df['listing']==unique_id]\n",
    "    # find mean price of that listing\n",
    "    average = temp['price'].mean()\n",
    "    # compare each day of the year's price to average \n",
    "    temp['differences'] = average - temp['price']\n",
    "    # sort values \n",
    "    temp = temp.sort_values('differences', ascending=False)\n",
    "    # document day and largest price spike of the listing in the demand_dates dataframe \n",
    "    if temp.iloc[0, 4] > 0: \n",
    "        demand_dates.loc[len(demand_dates)] = [temp.iloc[0,4], temp.iloc[0,1]]"
   ]
  },
  {
   "cell_type": "code",
   "execution_count": null,
   "metadata": {},
   "outputs": [],
   "source": []
  },
  {
   "cell_type": "code",
   "execution_count": null,
   "metadata": {},
   "outputs": [],
   "source": [
    "# run the function on each unique id \n",
    "unique = df['listing'].unique()\n",
    "for i in range(len(unique)//26):\n",
    "    difference(unique[i])"
   ]
  },
  {
   "cell_type": "code",
   "execution_count": null,
   "metadata": {},
   "outputs": [],
   "source": [
    "# convert to a workable format \n",
    "demand_dates['Date'] = pd.to_datetime(demand_dates['Date'])"
   ]
  },
  {
   "cell_type": "code",
   "execution_count": null,
   "metadata": {},
   "outputs": [],
   "source": [
    "print(demand_dates)"
   ]
  },
  {
   "cell_type": "code",
   "execution_count": null,
   "metadata": {},
   "outputs": [],
   "source": []
  },
  {
   "cell_type": "code",
   "execution_count": null,
   "metadata": {},
   "outputs": [],
   "source": [
    "print(df)"
   ]
  },
  {
   "cell_type": "code",
   "execution_count": null,
   "metadata": {},
   "outputs": [],
   "source": []
  },
  {
   "cell_type": "code",
   "execution_count": null,
   "metadata": {},
   "outputs": [],
   "source": []
  },
  {
   "cell_type": "markdown",
   "metadata": {},
   "source": [
    "From this visualization, we see that certain months in which the price spikes are the highest (in dollars) are January, February, and December. We hypothesized this might be due to New Year's Valentine's Day and Christmas/New Year's Eve respectively. "
   ]
  },
  {
   "cell_type": "markdown",
   "metadata": {},
   "source": [
    "### Average Price Over a Year"
   ]
  },
  {
   "cell_type": "code",
   "execution_count": null,
   "metadata": {},
   "outputs": [],
   "source": [
    "\n",
    "# unique dates in calendar dataset \n",
    "unique_days = df['date'].unique()\n",
    "average_per_day=[]\n",
    "\n",
    "# find the average price on every day\n",
    "for i in range(len(unique_days)):\n",
    "    temp = df['listing'][df['date'] == unique_days[i]]\n",
    "    average_per_day.append(temp.mean())"
   ]
  },
  {
   "cell_type": "code",
   "execution_count": null,
   "metadata": {},
   "outputs": [],
   "source": [
    "plt.plot(range(len(unique_days)), average_per_day, color = 'purple')\n",
    "plt.style.use('ggplot')\n",
    "plt.xlim(0, 365)\n",
    "plt.title('Average Price Per Day')\n",
    "plt.xlabel('Day of the Year')\n",
    "plt.ylabel('Mean Price ($)')\n"
   ]
  },
  {
   "cell_type": "code",
   "execution_count": null,
   "metadata": {},
   "outputs": [],
   "source": []
  },
  {
   "cell_type": "code",
   "execution_count": null,
   "metadata": {},
   "outputs": [],
   "source": []
  },
  {
   "cell_type": "code",
   "execution_count": null,
   "metadata": {},
   "outputs": [],
   "source": []
  },
  {
   "cell_type": "code",
   "execution_count": null,
   "metadata": {},
   "outputs": [],
   "source": []
  },
  {
   "cell_type": "code",
   "execution_count": null,
   "metadata": {},
   "outputs": [],
   "source": []
  },
  {
   "cell_type": "markdown",
   "metadata": {},
   "source": [
    "There are 3 notable results from this visualization: \n",
    "\n",
    "1) There are spikes every few days, which must represent weekends.\n",
    "\n",
    "2) There is a deep in average prices in the cold months of the year in New York. \n",
    "\n",
    "3) There is a tremendous spike in price at the very beginning of the year -- this represents New Year's. New York, of course, is very popular on New Year's because of the ball drop. "
   ]
  },
  {
   "cell_type": "markdown",
   "metadata": {},
   "source": [
    "### Understanding Demand"
   ]
  },
  {
   "cell_type": "markdown",
   "metadata": {},
   "source": [
    "We were curious to look into a few months which we believed had important holidays. We wanted to determine whether certain dates were more popular days for raising prices. This would thus imply that there is higher demand on those days, and thus owners increase their price in response to that demand. "
   ]
  },
  {
   "cell_type": "code",
   "execution_count": null,
   "metadata": {},
   "outputs": [],
   "source": [
    "# separate dataframes for months with important holidays \n",
    "demand_dates['months'] = demand_dates.Date.dt.month\n",
    "m1 = demand_dates[demand_dates['months'] == 1]\n",
    "m2 = demand_dates[demand_dates['months'] == 2]\n",
    "m7 = demand_dates[demand_dates['months'] == 7]\n",
    "m12 = demand_dates[demand_dates['months'] == 12]"
   ]
  },
  {
   "cell_type": "code",
   "execution_count": null,
   "metadata": {},
   "outputs": [],
   "source": [
    "print(demand_dates)"
   ]
  },
  {
   "cell_type": "code",
   "execution_count": null,
   "metadata": {},
   "outputs": [],
   "source": [
    "# January \n",
    "m1['Date'].groupby(m1.Date.dt.day).count().plot(kind='bar',title='Demand Spikes in January', label='Jan')"
   ]
  },
  {
   "cell_type": "markdown",
   "metadata": {},
   "source": [
    "The bar plot shows the date and the number of listings that increased their prices on that date. Many listings seem to increase their prices on New Years and in the week after New Years."
   ]
  },
  {
   "cell_type": "code",
   "execution_count": null,
   "metadata": {},
   "outputs": [],
   "source": [
    "# February\n",
    "m2['Date'].groupby(m2.Date.dt.day).count().plot(kind='bar', color='purple', title='Demand Spikes in February', label='Feb')"
   ]
  },
  {
   "cell_type": "markdown",
   "metadata": {},
   "source": [
    "February has no notable spikes in demand, despite our initial hypothesis about Valentine's Day"
   ]
  },
  {
   "cell_type": "code",
   "execution_count": null,
   "metadata": {},
   "outputs": [],
   "source": [
    "# July\n",
    "m7['Date'].groupby(m7.Date.dt.day).count().plot(kind='bar', color='teal', title='Demand Spikes in July')"
   ]
  },
  {
   "cell_type": "markdown",
   "metadata": {},
   "source": [
    "In the days preceding July 4th, there is a large increase in demand; we were surprised that less people seemed to increase their prices on July 4th itself however. "
   ]
  },
  {
   "cell_type": "code",
   "execution_count": null,
   "metadata": {},
   "outputs": [],
   "source": [
    "# December\n",
    "m12['Date'].groupby(m12.Date.dt.day).count().plot(kind='bar', color='pink', title='Demand Spikes in December')"
   ]
  },
  {
   "cell_type": "code",
   "execution_count": null,
   "metadata": {},
   "outputs": [],
   "source": []
  },
  {
   "cell_type": "markdown",
   "metadata": {},
   "source": [
    "We found that December 31st had a clear demand spike! Nevertheless, we were surprised that Christmas was not a day when people increase their prices. However, we must account for the fact that we did not use the entire dataset in creating these graphs, because of the computational memory/complexity it required."
   ]
  },
  {
   "cell_type": "markdown",
   "metadata": {},
   "source": [
    "### Holiday Analysis"
   ]
  },
  {
   "cell_type": "code",
   "execution_count": null,
   "metadata": {},
   "outputs": [],
   "source": [
    "# main holidays \n",
    "unique_dates = ['2018-01-01', '2018-02-14', '2018-07-04', '2018-12-24', '2018-12-25', '2018-12-31']\n",
    "unique_id = df['listing'].unique()\n",
    "\n",
    "# empty arrays \n",
    "new_years = []\n",
    "valentines = []\n",
    "july_fourth = []\n",
    "christ_eve = []\n",
    "christmas = []\n",
    "new_years_eve = []\n",
    "holidays = [new_years, valentines, july_fourth, christ_eve, christmas, new_years_eve]\n",
    "\n",
    "# find average price spike for each holiday\n",
    "# add results to the empty arrays \n",
    "\n",
    "for i in range(len(unique_id)):\n",
    "    # temp dataframe for each listing\n",
    "    temp = df[df['listing'] == unique_id[i]]\n",
    "    # find the mean price\n",
    "    average = temp['price'].mean()\n",
    "    # compare average price to holiday price\n",
    "    for j in range(len(holidays)):\n",
    "        temp_1 = temp['price'][temp['date'] == unique_dates[j]]\n",
    "        # document the price spike in the array\n",
    "        if len(temp_1) > 0:\n",
    "            num = temp_1.iloc[0] - average\n",
    "            holidays[j].append(num)\n",
    "\n",
    "# calculate average of all the price spikes for each holiday\n",
    "averages = []\n",
    "for i in range(len(unique_dates)):\n",
    "    averages.append(sum(holidays[i])/len(holidays[i])) if holidays[i] else 0\n",
    "# plot"
   ]
  },
  {
   "cell_type": "code",
   "execution_count": null,
   "metadata": {},
   "outputs": [],
   "source": [
    "print(averages)"
   ]
  },
  {
   "cell_type": "code",
   "execution_count": null,
   "metadata": {},
   "outputs": [],
   "source": [
    "print(unique_dates)"
   ]
  },
  {
   "cell_type": "code",
   "execution_count": null,
   "metadata": {},
   "outputs": [],
   "source": [
    "data = pd.DataFrame(columns = ['Average Price Spikes', 'Holidays'])\n",
    "data['Average Price Spikes'] = averages\n",
    "data['Holidays'] = unique_dates\n",
    "\n",
    "ax = sns.factorplot(data = data, x = 'Holidays', y = 'Average Price Spikes', size=4, aspect=2)  \n",
    "ax.set_titles('Price Spikes per Holiday')"
   ]
  },
  {
   "cell_type": "code",
   "execution_count": null,
   "metadata": {},
   "outputs": [],
   "source": [
    "print(data)"
   ]
  },
  {
   "cell_type": "markdown",
   "metadata": {
    "collapsed": true
   },
   "source": [
    "This final exploratory graph demonstrates, once again, how New year's has the largest average price spike. July 4th and Christmas also have notable price spikes. We will include indicator variables in our final dataset for these two holidays. Additionally, because previous explorations demonstrated the New Year's Eve is an important holiday as well, we will include an indicator variable for listings that change their price on this date as well. However,time and time again we see that Valentine's Day is not an important holiday in which Airbnb prices change and so we will not include an indicator variable for this date."
   ]
  }
 ],
 "metadata": {
  "anaconda-cloud": {},
  "kernelspec": {
   "display_name": "Python 3",
   "language": "python",
   "name": "python3"
  },
  "language_info": {
   "codemirror_mode": {
    "name": "ipython",
    "version": 3
   },
   "file_extension": ".py",
   "mimetype": "text/x-python",
   "name": "python",
   "nbconvert_exporter": "python",
   "pygments_lexer": "ipython3",
   "version": "3.7.2"
  }
 },
 "nbformat": 4,
 "nbformat_minor": 1
}
